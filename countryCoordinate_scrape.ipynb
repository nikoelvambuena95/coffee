{
 "cells": [
  {
   "cell_type": "markdown",
   "id": "01b2e278",
   "metadata": {},
   "source": [
    "## Scrape Country Data\n",
    "Scrape Google Dataset (https://developers.google.com/public-data/docs/canonical/countries_csv) for country data."
   ]
  },
  {
   "cell_type": "code",
   "execution_count": 1,
   "id": "dae0892a",
   "metadata": {},
   "outputs": [],
   "source": [
    "from bs4 import BeautifulSoup as bs\n",
    "from splinter import Browser\n",
    "from webdriver_manager.chrome import ChromeDriverManager\n",
    "import pandas as pd"
   ]
  },
  {
   "cell_type": "code",
   "execution_count": 2,
   "id": "d35dc10b",
   "metadata": {},
   "outputs": [
    {
     "name": "stderr",
     "output_type": "stream",
     "text": [
      "\n",
      "\n",
      "====== WebDriver manager ======\n",
      "Current google-chrome version is 90.0.4430\n",
      "Get LATEST driver version for 90.0.4430\n",
      "Driver [C:\\Users\\nikoe\\.wdm\\drivers\\chromedriver\\win32\\90.0.4430.24\\chromedriver.exe] found in cache\n"
     ]
    }
   ],
   "source": [
    "# Set-up Splinter\n",
    "executable_path = {'executable_path': ChromeDriverManager().install()}\n",
    "browser = Browser('chrome', **executable_path, headless=True)"
   ]
  },
  {
   "cell_type": "code",
   "execution_count": 3,
   "id": "2a6c9e47",
   "metadata": {},
   "outputs": [],
   "source": [
    "url = \"https://developers.google.com/public-data/docs/canonical/countries_csv\"\n",
    "browser.visit(url)\n",
    "html = browser.html\n",
    "countryData_site = bs(html, 'html.parser')"
   ]
  },
  {
   "cell_type": "code",
   "execution_count": 4,
   "id": "46002960",
   "metadata": {},
   "outputs": [],
   "source": [
    "# List of table rows\n",
    "results = countryData_site.find_all('tr')\n",
    "del results[0]\n",
    "\n",
    "browser.quit()"
   ]
  },
  {
   "cell_type": "code",
   "execution_count": 5,
   "id": "a8cfe1cb",
   "metadata": {},
   "outputs": [],
   "source": [
    "country_code = []\n",
    "latitude = []\n",
    "longitude = []\n",
    "country_name = []\n",
    "\n",
    "for row in results:\n",
    "    td = row.find_all('td')\n",
    "    country_code.append(td[0].get_text())\n",
    "    latitude.append(td[1].get_text())\n",
    "    longitude.append(td[2].get_text())\n",
    "    country_name.append(td[3].get_text())"
   ]
  },
  {
   "cell_type": "code",
   "execution_count": 6,
   "id": "2fcfcb3a",
   "metadata": {},
   "outputs": [],
   "source": [
    "coordinate_df = pd.DataFrame([country_code, latitude, longitude, country_name])\n",
    "coordinate_df = coordinate_df.T\n",
    "coordinate_df = coordinate_df.replace(\"Côte d'Ivoire\", \"Cote d'Ivoire\").replace(\"Congo [DRC]\", \"Democratic Republic of Congo\").replace(\"Congo [Republic]\", \"Congo\").replace(\"United States\", \"United States of America\").replace(\"Russia\", \"Russian Federation\").replace(\"Czech Republic\", \"Czechia\")"
   ]
  },
  {
   "cell_type": "code",
   "execution_count": 7,
   "id": "ead733c5",
   "metadata": {},
   "outputs": [
    {
     "data": {
      "text/html": [
       "<div>\n",
       "<style scoped>\n",
       "    .dataframe tbody tr th:only-of-type {\n",
       "        vertical-align: middle;\n",
       "    }\n",
       "\n",
       "    .dataframe tbody tr th {\n",
       "        vertical-align: top;\n",
       "    }\n",
       "\n",
       "    .dataframe thead th {\n",
       "        text-align: right;\n",
       "    }\n",
       "</style>\n",
       "<table border=\"1\" class=\"dataframe\">\n",
       "  <thead>\n",
       "    <tr style=\"text-align: right;\">\n",
       "      <th></th>\n",
       "      <th>0</th>\n",
       "      <th>1</th>\n",
       "      <th>2</th>\n",
       "      <th>3</th>\n",
       "    </tr>\n",
       "  </thead>\n",
       "  <tbody>\n",
       "    <tr>\n",
       "      <th>0</th>\n",
       "      <td>AD</td>\n",
       "      <td>42.546245</td>\n",
       "      <td>1.601554</td>\n",
       "      <td>Andorra</td>\n",
       "    </tr>\n",
       "    <tr>\n",
       "      <th>1</th>\n",
       "      <td>AE</td>\n",
       "      <td>23.424076</td>\n",
       "      <td>53.847818</td>\n",
       "      <td>United Arab Emirates</td>\n",
       "    </tr>\n",
       "    <tr>\n",
       "      <th>2</th>\n",
       "      <td>AF</td>\n",
       "      <td>33.93911</td>\n",
       "      <td>67.709953</td>\n",
       "      <td>Afghanistan</td>\n",
       "    </tr>\n",
       "    <tr>\n",
       "      <th>3</th>\n",
       "      <td>AG</td>\n",
       "      <td>17.060816</td>\n",
       "      <td>-61.796428</td>\n",
       "      <td>Antigua and Barbuda</td>\n",
       "    </tr>\n",
       "    <tr>\n",
       "      <th>4</th>\n",
       "      <td>AI</td>\n",
       "      <td>18.220554</td>\n",
       "      <td>-63.068615</td>\n",
       "      <td>Anguilla</td>\n",
       "    </tr>\n",
       "    <tr>\n",
       "      <th>...</th>\n",
       "      <td>...</td>\n",
       "      <td>...</td>\n",
       "      <td>...</td>\n",
       "      <td>...</td>\n",
       "    </tr>\n",
       "    <tr>\n",
       "      <th>240</th>\n",
       "      <td>YE</td>\n",
       "      <td>15.552727</td>\n",
       "      <td>48.516388</td>\n",
       "      <td>Yemen</td>\n",
       "    </tr>\n",
       "    <tr>\n",
       "      <th>241</th>\n",
       "      <td>YT</td>\n",
       "      <td>-12.8275</td>\n",
       "      <td>45.166244</td>\n",
       "      <td>Mayotte</td>\n",
       "    </tr>\n",
       "    <tr>\n",
       "      <th>242</th>\n",
       "      <td>ZA</td>\n",
       "      <td>-30.559482</td>\n",
       "      <td>22.937506</td>\n",
       "      <td>South Africa</td>\n",
       "    </tr>\n",
       "    <tr>\n",
       "      <th>243</th>\n",
       "      <td>ZM</td>\n",
       "      <td>-13.133897</td>\n",
       "      <td>27.849332</td>\n",
       "      <td>Zambia</td>\n",
       "    </tr>\n",
       "    <tr>\n",
       "      <th>244</th>\n",
       "      <td>ZW</td>\n",
       "      <td>-19.015438</td>\n",
       "      <td>29.154857</td>\n",
       "      <td>Zimbabwe</td>\n",
       "    </tr>\n",
       "  </tbody>\n",
       "</table>\n",
       "<p>245 rows × 4 columns</p>\n",
       "</div>"
      ],
      "text/plain": [
       "      0           1           2                     3\n",
       "0    AD   42.546245    1.601554               Andorra\n",
       "1    AE   23.424076   53.847818  United Arab Emirates\n",
       "2    AF    33.93911   67.709953           Afghanistan\n",
       "3    AG   17.060816  -61.796428   Antigua and Barbuda\n",
       "4    AI   18.220554  -63.068615              Anguilla\n",
       "..   ..         ...         ...                   ...\n",
       "240  YE   15.552727   48.516388                 Yemen\n",
       "241  YT    -12.8275   45.166244               Mayotte\n",
       "242  ZA  -30.559482   22.937506          South Africa\n",
       "243  ZM  -13.133897   27.849332                Zambia\n",
       "244  ZW  -19.015438   29.154857              Zimbabwe\n",
       "\n",
       "[245 rows x 4 columns]"
      ]
     },
     "execution_count": 7,
     "metadata": {},
     "output_type": "execute_result"
    }
   ],
   "source": [
    "coordinate_df"
   ]
  },
  {
   "cell_type": "code",
   "execution_count": 8,
   "id": "83b49188",
   "metadata": {},
   "outputs": [],
   "source": [
    "coordinate_df.to_csv('resources/countryCoordinate.csv', index=False)"
   ]
  }
 ],
 "metadata": {
  "kernelspec": {
   "display_name": "Python 3",
   "language": "python",
   "name": "python3"
  },
  "language_info": {
   "codemirror_mode": {
    "name": "ipython",
    "version": 3
   },
   "file_extension": ".py",
   "mimetype": "text/x-python",
   "name": "python",
   "nbconvert_exporter": "python",
   "pygments_lexer": "ipython3",
   "version": "3.8.5"
  }
 },
 "nbformat": 4,
 "nbformat_minor": 5
}
