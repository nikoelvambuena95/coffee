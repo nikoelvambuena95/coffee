{
 "cells": [
  {
   "cell_type": "markdown",
   "id": "0c3f6fe8",
   "metadata": {},
   "source": [
    "## Import Data\n",
    "Importing CSVs and converting into <em>Pandas</em> data frames. "
   ]
  },
  {
   "cell_type": "code",
   "execution_count": 1,
   "id": "b1c4b26a",
   "metadata": {},
   "outputs": [],
   "source": [
    "import pandas as pd"
   ]
  },
  {
   "cell_type": "markdown",
   "id": "fd85a121",
   "metadata": {},
   "source": [
    "### Trade Statistics - Exports"
   ]
  },
  {
   "cell_type": "code",
   "execution_count": 2,
   "id": "f2551413",
   "metadata": {},
   "outputs": [],
   "source": [
    "df = pd.read_csv('resources/tradeStats_exports.csv')"
   ]
  },
  {
   "cell_type": "code",
   "execution_count": 3,
   "id": "85c49b7e",
   "metadata": {
    "scrolled": false
   },
   "outputs": [],
   "source": [
    "# Get list of country names\n",
    "country_list = []\n",
    "for index, row in df.iterrows():\n",
    "    country_list.append(row[0])"
   ]
  },
  {
   "cell_type": "code",
   "execution_count": 4,
   "id": "c3dd48b5",
   "metadata": {
    "scrolled": false
   },
   "outputs": [],
   "source": [
    "# Drop \"country names\" column\n",
    "new_df = df.drop(columns=df.columns[0])"
   ]
  },
  {
   "cell_type": "code",
   "execution_count": 5,
   "id": "324390cf",
   "metadata": {},
   "outputs": [],
   "source": [
    "# Loop through DataFrame to seperate data\n",
    "big_list = []\n",
    "counter = -1\n",
    "\n",
    "for index , row in new_df.iterrows():\n",
    "    \n",
    "    small_list = []\n",
    "    for z in row:\n",
    "        small_list.append(z)\n",
    "    \n",
    "    year_list = []\n",
    "    for x in range(len(small_list)):\n",
    "        year = 1990 + x\n",
    "        year_list.append(year)\n",
    "    \n",
    "    list1 = []\n",
    "    counter += 1\n",
    "    for y in range(len(small_list)):\n",
    "        list1.append(country_list[counter])\n",
    "        \n",
    "        \n",
    "    big_list.append(year_list)\n",
    "    big_list.append(list1)\n",
    "    big_list.append(small_list)"
   ]
  },
  {
   "cell_type": "code",
   "execution_count": 6,
   "id": "7b97c14d",
   "metadata": {},
   "outputs": [],
   "source": [
    "# Create individual dataframes from seperated data\n",
    "final_list = []\n",
    "for item in range(len(country_list)):\n",
    "    df = pd.DataFrame([big_list[(item * 3)],\n",
    "                       big_list[(int((((item + 1)*9)/3)-2))],\n",
    "                       big_list[((((item + 2)*3)-4))]]).T.reset_index(drop = True)\n",
    "    final_list.append(df)"
   ]
  },
  {
   "cell_type": "code",
   "execution_count": 7,
   "id": "b4760833",
   "metadata": {},
   "outputs": [],
   "source": [
    "# Concat dataframes for normalized (1NF) data structure\n",
    "export_df = pd.concat(final_list).reset_index(drop = True)\n",
    "export_df[3] = \"Export\""
   ]
  },
  {
   "cell_type": "markdown",
   "id": "2f057511",
   "metadata": {},
   "source": [
    "### Trade Statistics - Imports"
   ]
  },
  {
   "cell_type": "code",
   "execution_count": 8,
   "id": "5f37408f",
   "metadata": {},
   "outputs": [],
   "source": [
    "df = pd.read_csv('resources/tradeStats_imports.csv')"
   ]
  },
  {
   "cell_type": "code",
   "execution_count": 9,
   "id": "088b8ec2",
   "metadata": {
    "scrolled": false
   },
   "outputs": [],
   "source": [
    "# Get list of country names\n",
    "country_list = []\n",
    "for index, row in df.iterrows():\n",
    "    country_list.append(row[0])"
   ]
  },
  {
   "cell_type": "code",
   "execution_count": 10,
   "id": "0c1fbdae",
   "metadata": {
    "scrolled": true
   },
   "outputs": [],
   "source": [
    "# Drop \"country names\" column\n",
    "new_df = df.drop(columns=df.columns[0])"
   ]
  },
  {
   "cell_type": "code",
   "execution_count": 11,
   "id": "a0a793a7",
   "metadata": {
    "scrolled": true
   },
   "outputs": [],
   "source": [
    "# Loop through DataFrame to seperate data\n",
    "big_list = []\n",
    "counter = -1\n",
    "\n",
    "for index , row in new_df.iterrows():\n",
    "    \n",
    "    small_list = []\n",
    "    for z in row:\n",
    "        small_list.append(z)\n",
    "    \n",
    "    year_list = []\n",
    "    for x in range(len(small_list)):\n",
    "        year = 1990 + x\n",
    "        year_list.append(year)\n",
    "    \n",
    "    list1 = []\n",
    "    counter += 1\n",
    "    for y in range(len(small_list)):\n",
    "        list1.append(country_list[counter])\n",
    "        \n",
    "        \n",
    "    big_list.append(year_list)\n",
    "    big_list.append(list1)\n",
    "    big_list.append(small_list)"
   ]
  },
  {
   "cell_type": "code",
   "execution_count": 12,
   "id": "45f21711",
   "metadata": {},
   "outputs": [],
   "source": [
    "# Create individual dataframes from seperated data\n",
    "final_list = []\n",
    "for item in range(len(country_list)):\n",
    "    df = pd.DataFrame([big_list[(item * 3)],\n",
    "                       big_list[(int((((item + 1)*9)/3)-2))],\n",
    "                       big_list[((((item + 2)*3)-4))]]).T.reset_index(drop = True)\n",
    "    final_list.append(df)"
   ]
  },
  {
   "cell_type": "code",
   "execution_count": 13,
   "id": "c35358c1",
   "metadata": {},
   "outputs": [],
   "source": [
    "# Concat dataframes for normalized (1NF) data structure\n",
    "import_df = pd.concat(final_list).reset_index(drop = True)\n",
    "import_df[3] = \"Import\""
   ]
  },
  {
   "cell_type": "markdown",
   "id": "3e38b1bb",
   "metadata": {},
   "source": [
    "### Price to Growers - Colombian Milds"
   ]
  },
  {
   "cell_type": "code",
   "execution_count": 14,
   "id": "636a1ec5",
   "metadata": {},
   "outputs": [],
   "source": [
    "# Read CSV\n",
    "df = pd.read_csv('resources/priceGrowers_colombianMilds.csv')"
   ]
  },
  {
   "cell_type": "code",
   "execution_count": 15,
   "id": "65dd24a4",
   "metadata": {},
   "outputs": [],
   "source": [
    "# Get list of country names\n",
    "country_list = []\n",
    "for index, row in df.iterrows():\n",
    "    country_list.append(row[0])"
   ]
  },
  {
   "cell_type": "code",
   "execution_count": 16,
   "id": "2d612c09",
   "metadata": {
    "scrolled": true
   },
   "outputs": [],
   "source": [
    "# Drop \"country names\" column\n",
    "new_df = df.drop(columns=df.columns[0])"
   ]
  },
  {
   "cell_type": "code",
   "execution_count": 17,
   "id": "5819d66e",
   "metadata": {},
   "outputs": [],
   "source": [
    "# Loop through DataFrame to seperate data\n",
    "big_list = []\n",
    "counter = -1\n",
    "\n",
    "for index , row in new_df.iterrows():\n",
    "    \n",
    "    small_list = []\n",
    "    for z in row:\n",
    "        small_list.append(z)\n",
    "    \n",
    "    year_list = []\n",
    "    for x in range(len(small_list)):\n",
    "        year = 1990 + x\n",
    "        year_list.append(year)\n",
    "    \n",
    "    list1 = []\n",
    "    counter += 1\n",
    "    for y in range(len(small_list)):\n",
    "        list1.append(country_list[counter])\n",
    "        \n",
    "        \n",
    "    big_list.append(year_list)\n",
    "    big_list.append(list1)\n",
    "    big_list.append(small_list)"
   ]
  },
  {
   "cell_type": "code",
   "execution_count": 18,
   "id": "26c504a6",
   "metadata": {},
   "outputs": [],
   "source": [
    "# Create individual dataframes from seperated data\n",
    "final_list = []\n",
    "for item in range(len(country_list)):\n",
    "    df = pd.DataFrame([big_list[(item * 3)],\n",
    "                       big_list[(int((((item + 1)*9)/3)-2))],\n",
    "                       big_list[((((item + 2)*3)-4))]]).T.reset_index(drop = True)\n",
    "    final_list.append(df)"
   ]
  },
  {
   "cell_type": "code",
   "execution_count": 19,
   "id": "308876ed",
   "metadata": {
    "scrolled": true
   },
   "outputs": [],
   "source": [
    "# Concat dataframes for normalized (1NF) data structure\n",
    "colombianMild_df = pd.concat(final_list).reset_index(drop = True)\n",
    "colombianMild_df[3] = \"Colombian Milds\""
   ]
  },
  {
   "cell_type": "markdown",
   "id": "eb83f9a0",
   "metadata": {},
   "source": [
    "### Price to Growers - Other Milds"
   ]
  },
  {
   "cell_type": "code",
   "execution_count": 20,
   "id": "20408938",
   "metadata": {},
   "outputs": [],
   "source": [
    "df = pd.read_csv('resources/priceGrowers_otherMilds.csv')"
   ]
  },
  {
   "cell_type": "code",
   "execution_count": 21,
   "id": "b48006bc",
   "metadata": {},
   "outputs": [],
   "source": [
    "# Get list of country names\n",
    "country_list = []\n",
    "for index, row in df.iterrows():\n",
    "    country_list.append(row[0])"
   ]
  },
  {
   "cell_type": "code",
   "execution_count": 22,
   "id": "20d654c1",
   "metadata": {},
   "outputs": [],
   "source": [
    "# Drop \"country names\" column\n",
    "new_df = df.drop(columns=df.columns[0])"
   ]
  },
  {
   "cell_type": "code",
   "execution_count": 23,
   "id": "a278d64f",
   "metadata": {
    "scrolled": true
   },
   "outputs": [],
   "source": [
    "# Loop through DataFrame to seperate data\n",
    "big_list = []\n",
    "counter = -1\n",
    "\n",
    "for index , row in new_df.iterrows():\n",
    "    \n",
    "    small_list = []\n",
    "    for z in row:\n",
    "        small_list.append(z)\n",
    "    \n",
    "    year_list = []\n",
    "    for x in range(len(small_list)):\n",
    "        year = 1990 + x\n",
    "        year_list.append(year)\n",
    "    \n",
    "    list1 = []\n",
    "    counter += 1\n",
    "    for y in range(len(small_list)):\n",
    "        list1.append(country_list[counter])\n",
    "        \n",
    "        \n",
    "    big_list.append(year_list)\n",
    "    big_list.append(list1)\n",
    "    big_list.append(small_list)"
   ]
  },
  {
   "cell_type": "code",
   "execution_count": 24,
   "id": "b50e0ce9",
   "metadata": {},
   "outputs": [],
   "source": [
    "# Create individual dataframes from seperated data\n",
    "final_list = []\n",
    "for item in range(len(country_list)):\n",
    "    df = pd.DataFrame([big_list[(item * 3)],\n",
    "                       big_list[(int((((item + 1)*9)/3)-2))],\n",
    "                       big_list[((((item + 2)*3)-4))]]).T.reset_index(drop = True)\n",
    "    final_list.append(df)"
   ]
  },
  {
   "cell_type": "code",
   "execution_count": 25,
   "id": "7542306f",
   "metadata": {},
   "outputs": [],
   "source": [
    "# Concat dataframes for normalized (1NF) data structure\n",
    "otherMild_df = pd.concat(final_list).reset_index(drop = True)\n",
    "otherMild_df[3] = \"Other Milds\""
   ]
  },
  {
   "cell_type": "markdown",
   "id": "0b6f29ee",
   "metadata": {},
   "source": [
    "### Price to Growers - Brazilian Naturals"
   ]
  },
  {
   "cell_type": "code",
   "execution_count": 26,
   "id": "97f13509",
   "metadata": {},
   "outputs": [],
   "source": [
    "df = pd.read_csv('resources/priceGrowers_brazilianNaturals.csv')"
   ]
  },
  {
   "cell_type": "code",
   "execution_count": 27,
   "id": "d20cf1a2",
   "metadata": {},
   "outputs": [],
   "source": [
    "# Get list of country names\n",
    "country_list = []\n",
    "for index, row in df.iterrows():\n",
    "    country_list.append(row[0])"
   ]
  },
  {
   "cell_type": "code",
   "execution_count": 28,
   "id": "0482b9c9",
   "metadata": {},
   "outputs": [],
   "source": [
    "# Drop \"country names\" column\n",
    "new_df = df.drop(columns=df.columns[0])"
   ]
  },
  {
   "cell_type": "code",
   "execution_count": 29,
   "id": "1e4fd9bc",
   "metadata": {
    "scrolled": false
   },
   "outputs": [],
   "source": [
    "# Loop through DataFrame to seperate data\n",
    "big_list = []\n",
    "counter = -1\n",
    "\n",
    "for index , row in new_df.iterrows():\n",
    "    \n",
    "    small_list = []\n",
    "    for z in row:\n",
    "        small_list.append(z)\n",
    "    \n",
    "    year_list = []\n",
    "    for x in range(len(small_list)):\n",
    "        year = 1990 + x\n",
    "        year_list.append(year)\n",
    "    \n",
    "    list1 = []\n",
    "    counter += 1\n",
    "    for y in range(len(small_list)):\n",
    "        list1.append(country_list[counter])\n",
    "        \n",
    "        \n",
    "    big_list.append(year_list)\n",
    "    big_list.append(list1)\n",
    "    big_list.append(small_list)"
   ]
  },
  {
   "cell_type": "code",
   "execution_count": 30,
   "id": "f7004ad2",
   "metadata": {},
   "outputs": [],
   "source": [
    "# Create individual dataframes from seperated data\n",
    "final_list = []\n",
    "for item in range(len(country_list)):\n",
    "    df = pd.DataFrame([big_list[(item * 3)],\n",
    "                       big_list[(int((((item + 1)*9)/3)-2))],\n",
    "                       big_list[((((item + 2)*3)-4))]]).T.reset_index(drop = True)\n",
    "    final_list.append(df)"
   ]
  },
  {
   "cell_type": "code",
   "execution_count": 31,
   "id": "88ad035d",
   "metadata": {},
   "outputs": [],
   "source": [
    "# Concat dataframes for normalized (1NF) data structure\n",
    "brazilianNatural_df = pd.concat(final_list).reset_index(drop = True)\n",
    "brazilianNatural_df[3] = \"Brazilian Naturals\""
   ]
  },
  {
   "cell_type": "markdown",
   "id": "077a6741",
   "metadata": {},
   "source": [
    "### Price to Growers - Robustas"
   ]
  },
  {
   "cell_type": "code",
   "execution_count": 32,
   "id": "dda272aa",
   "metadata": {},
   "outputs": [],
   "source": [
    "df = pd.read_csv('resources/priceGrowers_robustas.csv')"
   ]
  },
  {
   "cell_type": "code",
   "execution_count": 33,
   "id": "e6f038d2",
   "metadata": {},
   "outputs": [],
   "source": [
    "# Get list of country names\n",
    "country_list = []\n",
    "for index, row in df.iterrows():\n",
    "    country_list.append(row[0])"
   ]
  },
  {
   "cell_type": "code",
   "execution_count": 34,
   "id": "d81f9150",
   "metadata": {},
   "outputs": [],
   "source": [
    "# Drop \"country names\" column\n",
    "new_df = df.drop(columns=df.columns[0])"
   ]
  },
  {
   "cell_type": "code",
   "execution_count": 35,
   "id": "e6621555",
   "metadata": {
    "scrolled": true
   },
   "outputs": [],
   "source": [
    "# Loop through DataFrame to seperate data\n",
    "big_list = []\n",
    "counter = -1\n",
    "\n",
    "for index , row in new_df.iterrows():\n",
    "    \n",
    "    small_list = []\n",
    "    for z in row:\n",
    "        small_list.append(z)\n",
    "    \n",
    "    year_list = []\n",
    "    for x in range(len(small_list)):\n",
    "        year = 1990 + x\n",
    "        year_list.append(year)\n",
    "    \n",
    "    list1 = []\n",
    "    counter += 1\n",
    "    for y in range(len(small_list)):\n",
    "        list1.append(country_list[counter])\n",
    "        \n",
    "        \n",
    "    big_list.append(year_list)\n",
    "    big_list.append(list1)\n",
    "    big_list.append(small_list)"
   ]
  },
  {
   "cell_type": "code",
   "execution_count": 36,
   "id": "f4fb236e",
   "metadata": {},
   "outputs": [],
   "source": [
    "# Create individual dataframes from seperated data\n",
    "final_list = []\n",
    "for item in range(len(country_list)):\n",
    "    df = pd.DataFrame([big_list[(item * 3)],\n",
    "                       big_list[(int((((item + 1)*9)/3)-2))],\n",
    "                       big_list[((((item + 2)*3)-4))]]).T.reset_index(drop = True)\n",
    "    final_list.append(df)"
   ]
  },
  {
   "cell_type": "code",
   "execution_count": 37,
   "id": "ad98dee7",
   "metadata": {
    "scrolled": true
   },
   "outputs": [],
   "source": [
    "# Concat dataframes for normalized (1NF) data structure\n",
    "robusta_df = pd.concat(final_list).reset_index(drop = True)\n",
    "robusta_df[3] = \"Robustas\""
   ]
  },
  {
   "cell_type": "markdown",
   "id": "a998beea",
   "metadata": {},
   "source": [
    "### Total Production of Exporting Countries - April group"
   ]
  },
  {
   "cell_type": "code",
   "execution_count": 38,
   "id": "0719902b",
   "metadata": {},
   "outputs": [],
   "source": [
    "df = pd.read_csv('resources/totalProduction_april.csv')"
   ]
  },
  {
   "cell_type": "code",
   "execution_count": 39,
   "id": "240b6bca",
   "metadata": {},
   "outputs": [],
   "source": [
    "# Get list of country names\n",
    "country_list = []\n",
    "for index, row in df.iterrows():\n",
    "    country_list.append(row[0])"
   ]
  },
  {
   "cell_type": "code",
   "execution_count": 40,
   "id": "160022ad",
   "metadata": {},
   "outputs": [],
   "source": [
    "# Drop \"country names\" column\n",
    "new_df = df.drop(columns=df.columns[0])"
   ]
  },
  {
   "cell_type": "code",
   "execution_count": 41,
   "id": "d28174da",
   "metadata": {},
   "outputs": [],
   "source": [
    "# Loop through DataFrame to seperate data\n",
    "big_list = []\n",
    "counter = -1\n",
    "\n",
    "for index , row in new_df.iterrows():\n",
    "    \n",
    "    small_list = []\n",
    "    for z in row:\n",
    "        small_list.append(z)\n",
    "    \n",
    "    year_list = []\n",
    "    for x in range(len(small_list)):\n",
    "        year = 1990 + x\n",
    "        year_list.append(year)\n",
    "    \n",
    "    list1 = []\n",
    "    counter += 1\n",
    "    for y in range(len(small_list)):\n",
    "        list1.append(country_list[counter])\n",
    "        \n",
    "        \n",
    "    big_list.append(year_list)\n",
    "    big_list.append(list1)\n",
    "    big_list.append(small_list)"
   ]
  },
  {
   "cell_type": "code",
   "execution_count": 42,
   "id": "02ba6e15",
   "metadata": {},
   "outputs": [],
   "source": [
    "# Create individual dataframes from seperated data\n",
    "final_list = []\n",
    "for item in range(len(country_list)):\n",
    "    df = pd.DataFrame([big_list[(item * 3)],\n",
    "                       big_list[(int((((item + 1)*9)/3)-2))],\n",
    "                       big_list[((((item + 2)*3)-4))]]).T.reset_index(drop = True)\n",
    "    final_list.append(df)"
   ]
  },
  {
   "cell_type": "code",
   "execution_count": 43,
   "id": "1ba7d2b6",
   "metadata": {
    "scrolled": true
   },
   "outputs": [],
   "source": [
    "# Concat dataframes for normalized (1NF) data structure\n",
    "totalProd_april_df = pd.concat(final_list).reset_index(drop = True)\n",
    "totalProd_april_df[3] = \"April\""
   ]
  },
  {
   "cell_type": "markdown",
   "id": "bbf2a898",
   "metadata": {},
   "source": [
    "### Total Production of Exporting Countries - July group"
   ]
  },
  {
   "cell_type": "code",
   "execution_count": 44,
   "id": "6055fe7e",
   "metadata": {},
   "outputs": [],
   "source": [
    "df = pd.read_csv('resources/totalProduction_july.csv')"
   ]
  },
  {
   "cell_type": "code",
   "execution_count": 45,
   "id": "e8171f39",
   "metadata": {},
   "outputs": [],
   "source": [
    "# Get list of country names\n",
    "country_list = []\n",
    "for index, row in df.iterrows():\n",
    "    country_list.append(row[0])"
   ]
  },
  {
   "cell_type": "code",
   "execution_count": 46,
   "id": "8ed7c186",
   "metadata": {},
   "outputs": [],
   "source": [
    "# Drop \"country names\" column\n",
    "new_df = df.drop(columns=df.columns[0])"
   ]
  },
  {
   "cell_type": "code",
   "execution_count": 47,
   "id": "13990ebc",
   "metadata": {},
   "outputs": [],
   "source": [
    "# Loop through DataFrame to seperate data\n",
    "big_list = []\n",
    "counter = -1\n",
    "\n",
    "for index , row in new_df.iterrows():\n",
    "    \n",
    "    small_list = []\n",
    "    for z in row:\n",
    "        small_list.append(z)\n",
    "    \n",
    "    year_list = []\n",
    "    for x in range(len(small_list)):\n",
    "        year = 1990 + x\n",
    "        year_list.append(year)\n",
    "    \n",
    "    list1 = []\n",
    "    counter += 1\n",
    "    for y in range(len(small_list)):\n",
    "        list1.append(country_list[counter])\n",
    "        \n",
    "        \n",
    "    big_list.append(year_list)\n",
    "    big_list.append(list1)\n",
    "    big_list.append(small_list)"
   ]
  },
  {
   "cell_type": "code",
   "execution_count": 48,
   "id": "c95bdf55",
   "metadata": {},
   "outputs": [],
   "source": [
    "# Create individual dataframes from seperated data\n",
    "final_list = []\n",
    "for item in range(len(country_list)):\n",
    "    df = pd.DataFrame([big_list[(item * 3)],\n",
    "                       big_list[(int((((item + 1)*9)/3)-2))],\n",
    "                       big_list[((((item + 2)*3)-4))]]).T.reset_index(drop = True)\n",
    "    final_list.append(df)"
   ]
  },
  {
   "cell_type": "code",
   "execution_count": 49,
   "id": "42f898db",
   "metadata": {
    "scrolled": true
   },
   "outputs": [],
   "source": [
    "# Concat dataframes for normalized (1NF) data structure\n",
    "totalProd_july_df = pd.concat(final_list).reset_index(drop = True)\n",
    "totalProd_july_df[3] = \"July\""
   ]
  },
  {
   "cell_type": "markdown",
   "id": "f93918ef",
   "metadata": {},
   "source": [
    "### Total Production of Exporting Countries - October group"
   ]
  },
  {
   "cell_type": "code",
   "execution_count": 50,
   "id": "5089f17b",
   "metadata": {},
   "outputs": [],
   "source": [
    "df = pd.read_csv('resources/totalProduction_october.csv')"
   ]
  },
  {
   "cell_type": "code",
   "execution_count": 51,
   "id": "5c632bde",
   "metadata": {},
   "outputs": [],
   "source": [
    "# Get list of country names\n",
    "country_list = []\n",
    "for index, row in df.iterrows():\n",
    "    country_list.append(row[0])"
   ]
  },
  {
   "cell_type": "code",
   "execution_count": 52,
   "id": "e52b9266",
   "metadata": {},
   "outputs": [],
   "source": [
    "# Drop \"country names\" column\n",
    "new_df = df.drop(columns=df.columns[0])"
   ]
  },
  {
   "cell_type": "code",
   "execution_count": 53,
   "id": "f653da3c",
   "metadata": {},
   "outputs": [],
   "source": [
    "# Loop through DataFrame to seperate data\n",
    "big_list = []\n",
    "counter = -1\n",
    "\n",
    "for index , row in new_df.iterrows():\n",
    "    \n",
    "    small_list = []\n",
    "    for z in row:\n",
    "        small_list.append(z)\n",
    "    \n",
    "    year_list = []\n",
    "    for x in range(len(small_list)):\n",
    "        year = 1990 + x\n",
    "        year_list.append(year)\n",
    "    \n",
    "    list1 = []\n",
    "    counter += 1\n",
    "    for y in range(len(small_list)):\n",
    "        list1.append(country_list[counter])\n",
    "        \n",
    "        \n",
    "    big_list.append(year_list)\n",
    "    big_list.append(list1)\n",
    "    big_list.append(small_list)"
   ]
  },
  {
   "cell_type": "code",
   "execution_count": 54,
   "id": "3fd7c76d",
   "metadata": {},
   "outputs": [],
   "source": [
    "# Create individual dataframes from seperated data\n",
    "final_list = []\n",
    "for item in range(len(country_list)):\n",
    "    df = pd.DataFrame([big_list[(item * 3)],\n",
    "                       big_list[(int((((item + 1)*9)/3)-2))],\n",
    "                       big_list[((((item + 2)*3)-4))]]).T.reset_index(drop = True)\n",
    "    final_list.append(df)"
   ]
  },
  {
   "cell_type": "code",
   "execution_count": 55,
   "id": "eee22ac6",
   "metadata": {
    "scrolled": true
   },
   "outputs": [],
   "source": [
    "# Concat dataframes for normalized (1NF) data structure\n",
    "totalProd_october_df = pd.concat(final_list).reset_index(drop = True)\n",
    "totalProd_october_df[3] = \"October\""
   ]
  },
  {
   "cell_type": "markdown",
   "id": "769511c8",
   "metadata": {},
   "source": [
    "### Indicator Price - ICO Composite"
   ]
  },
  {
   "cell_type": "code",
   "execution_count": 56,
   "id": "d1fe413a",
   "metadata": {},
   "outputs": [],
   "source": [
    "df = pd.read_csv('resources/indicator_ICOcomposite.csv')"
   ]
  },
  {
   "cell_type": "code",
   "execution_count": 57,
   "id": "e74a889d",
   "metadata": {
    "scrolled": true
   },
   "outputs": [],
   "source": [
    "# Get list of months\n",
    "month_list = []\n",
    "for index, row in df.iterrows():\n",
    "    month_list.append(row[0])"
   ]
  },
  {
   "cell_type": "code",
   "execution_count": 58,
   "id": "26c3440e",
   "metadata": {
    "scrolled": true
   },
   "outputs": [],
   "source": [
    "# Drop \"months\" column\n",
    "new_df = df.drop(columns=df.columns[0])"
   ]
  },
  {
   "cell_type": "code",
   "execution_count": 59,
   "id": "8c9df094",
   "metadata": {},
   "outputs": [],
   "source": [
    "# Loop through DataFrame to seperate data\n",
    "big_list = []\n",
    "counter = -1\n",
    "\n",
    "for index , row in new_df.iterrows():\n",
    "    \n",
    "    small_list = []\n",
    "    for z in row:\n",
    "        small_list.append(z)\n",
    "    \n",
    "    year_list = []\n",
    "    for x in range(len(small_list)):\n",
    "        year = 1990 + x\n",
    "        year_list.append(year)\n",
    "    \n",
    "    list1 = []\n",
    "    counter += 1\n",
    "    for y in range(len(small_list)):\n",
    "        list1.append(month_list[counter])\n",
    "        \n",
    "        \n",
    "    big_list.append(year_list)\n",
    "    big_list.append(list1)\n",
    "    big_list.append(small_list)"
   ]
  },
  {
   "cell_type": "code",
   "execution_count": 60,
   "id": "fa975758",
   "metadata": {},
   "outputs": [],
   "source": [
    "# Create individual dataframes from seperated data\n",
    "final_list = []\n",
    "for item in range(len(month_list)):\n",
    "    df = pd.DataFrame([big_list[(item * 3)],\n",
    "                       big_list[(int((((item + 1)*9)/3)-2))],\n",
    "                       big_list[((((item + 2)*3)-4))]]).T.reset_index(drop = True)\n",
    "    final_list.append(df)"
   ]
  },
  {
   "cell_type": "code",
   "execution_count": 61,
   "id": "0542215b",
   "metadata": {
    "scrolled": true
   },
   "outputs": [],
   "source": [
    "# Concat dataframes for normalized (1NF) data structure\n",
    "indicator_ICO_df = pd.concat(final_list).reset_index(drop = True)\n",
    "indicator_ICO_df[3] = \"ICO Composite\""
   ]
  },
  {
   "cell_type": "markdown",
   "id": "abc554e6",
   "metadata": {},
   "source": [
    "### Indicator Price - Colombian Milds"
   ]
  },
  {
   "cell_type": "code",
   "execution_count": 62,
   "id": "b04a8013",
   "metadata": {},
   "outputs": [],
   "source": [
    "df = pd.read_csv('resources/indicator_colombianMilds.csv')"
   ]
  },
  {
   "cell_type": "code",
   "execution_count": 63,
   "id": "58cbb390",
   "metadata": {},
   "outputs": [],
   "source": [
    "# Get list of months\n",
    "month_list = []\n",
    "for index, row in df.iterrows():\n",
    "    month_list.append(row[0])"
   ]
  },
  {
   "cell_type": "code",
   "execution_count": 64,
   "id": "cefcb353",
   "metadata": {},
   "outputs": [],
   "source": [
    "# Drop \"months\" column\n",
    "new_df = df.drop(columns=df.columns[0])"
   ]
  },
  {
   "cell_type": "code",
   "execution_count": 65,
   "id": "84c9e2c1",
   "metadata": {},
   "outputs": [],
   "source": [
    "# Loop through DataFrame to seperate data\n",
    "big_list = []\n",
    "counter = -1\n",
    "\n",
    "for index , row in new_df.iterrows():\n",
    "    \n",
    "    small_list = []\n",
    "    for z in row:\n",
    "        small_list.append(z)\n",
    "    \n",
    "    year_list = []\n",
    "    for x in range(len(small_list)):\n",
    "        year = 1990 + x\n",
    "        year_list.append(year)\n",
    "    \n",
    "    list1 = []\n",
    "    counter += 1\n",
    "    for y in range(len(small_list)):\n",
    "        list1.append(month_list[counter])\n",
    "        \n",
    "        \n",
    "    big_list.append(year_list)\n",
    "    big_list.append(list1)\n",
    "    big_list.append(small_list)"
   ]
  },
  {
   "cell_type": "code",
   "execution_count": 66,
   "id": "549864d3",
   "metadata": {},
   "outputs": [],
   "source": [
    "# Create individual dataframes from seperated data\n",
    "final_list = []\n",
    "for item in range(len(month_list)):\n",
    "    df = pd.DataFrame([big_list[(item * 3)],\n",
    "                       big_list[(int((((item + 1)*9)/3)-2))],\n",
    "                       big_list[((((item + 2)*3)-4))]]).T.reset_index(drop = True)\n",
    "    final_list.append(df)"
   ]
  },
  {
   "cell_type": "code",
   "execution_count": 67,
   "id": "04c82d25",
   "metadata": {
    "scrolled": true
   },
   "outputs": [],
   "source": [
    "# Concat dataframes for normalized (1NF) data structure\n",
    "indicator_colombianMild_df = pd.concat(final_list).reset_index(drop = True)\n",
    "indicator_colombianMild_df[3] = \"Colombian Milds\""
   ]
  },
  {
   "cell_type": "markdown",
   "id": "da1903e5",
   "metadata": {},
   "source": [
    "### Indicator Price - Other Milds"
   ]
  },
  {
   "cell_type": "code",
   "execution_count": 68,
   "id": "e9c5a6b1",
   "metadata": {},
   "outputs": [],
   "source": [
    "df = pd.read_csv('resources/indicator_otherMilds.csv')"
   ]
  },
  {
   "cell_type": "code",
   "execution_count": 69,
   "id": "3897aa85",
   "metadata": {},
   "outputs": [],
   "source": [
    "# Get list of months\n",
    "month_list = []\n",
    "for index, row in df.iterrows():\n",
    "    month_list.append(row[0])"
   ]
  },
  {
   "cell_type": "code",
   "execution_count": 70,
   "id": "141f9287",
   "metadata": {},
   "outputs": [],
   "source": [
    "# Drop \"months\" column\n",
    "new_df = df.drop(columns=df.columns[0])"
   ]
  },
  {
   "cell_type": "code",
   "execution_count": 71,
   "id": "6fe9b633",
   "metadata": {},
   "outputs": [],
   "source": [
    "# Loop through DataFrame to seperate data\n",
    "big_list = []\n",
    "counter = -1\n",
    "\n",
    "for index , row in new_df.iterrows():\n",
    "    \n",
    "    small_list = []\n",
    "    for z in row:\n",
    "        small_list.append(z)\n",
    "    \n",
    "    year_list = []\n",
    "    for x in range(len(small_list)):\n",
    "        year = 1990 + x\n",
    "        year_list.append(year)\n",
    "    \n",
    "    list1 = []\n",
    "    counter += 1\n",
    "    for y in range(len(small_list)):\n",
    "        list1.append(month_list[counter])\n",
    "        \n",
    "        \n",
    "    big_list.append(year_list)\n",
    "    big_list.append(list1)\n",
    "    big_list.append(small_list)"
   ]
  },
  {
   "cell_type": "code",
   "execution_count": 72,
   "id": "d5925cf5",
   "metadata": {},
   "outputs": [],
   "source": [
    "# Create individual dataframes from seperated data\n",
    "final_list = []\n",
    "for item in range(len(month_list)):\n",
    "    df = pd.DataFrame([big_list[(item * 3)],\n",
    "                       big_list[(int((((item + 1)*9)/3)-2))],\n",
    "                       big_list[((((item + 2)*3)-4))]]).T.reset_index(drop = True)\n",
    "    final_list.append(df)"
   ]
  },
  {
   "cell_type": "code",
   "execution_count": 73,
   "id": "99981da8",
   "metadata": {
    "scrolled": true
   },
   "outputs": [],
   "source": [
    "# Concat dataframes for normalized (1NF) data structure\n",
    "indicator_otherMild_df = pd.concat(final_list).reset_index(drop = True)\n",
    "indicator_otherMild_df[3] = \"Other Milds\""
   ]
  },
  {
   "cell_type": "markdown",
   "id": "ab8c1e74",
   "metadata": {},
   "source": [
    "### Indicator Price - Brazilian Naturals"
   ]
  },
  {
   "cell_type": "code",
   "execution_count": 74,
   "id": "f36587ff",
   "metadata": {},
   "outputs": [],
   "source": [
    "df = pd.read_csv('resources/indicator_brazilianNaturals.csv')"
   ]
  },
  {
   "cell_type": "code",
   "execution_count": 75,
   "id": "3ca23020",
   "metadata": {},
   "outputs": [],
   "source": [
    "# Get list of months\n",
    "month_list = []\n",
    "for index, row in df.iterrows():\n",
    "    month_list.append(row[0])"
   ]
  },
  {
   "cell_type": "code",
   "execution_count": 76,
   "id": "9b9f78e4",
   "metadata": {},
   "outputs": [],
   "source": [
    "# Drop \"months\" column\n",
    "new_df = df.drop(columns=df.columns[0])"
   ]
  },
  {
   "cell_type": "code",
   "execution_count": 77,
   "id": "96f24c4e",
   "metadata": {},
   "outputs": [],
   "source": [
    "# Loop through DataFrame to seperate data\n",
    "big_list = []\n",
    "counter = -1\n",
    "\n",
    "for index , row in new_df.iterrows():\n",
    "    \n",
    "    small_list = []\n",
    "    for z in row:\n",
    "        small_list.append(z)\n",
    "    \n",
    "    year_list = []\n",
    "    for x in range(len(small_list)):\n",
    "        year = 1990 + x\n",
    "        year_list.append(year)\n",
    "    \n",
    "    list1 = []\n",
    "    counter += 1\n",
    "    for y in range(len(small_list)):\n",
    "        list1.append(month_list[counter])\n",
    "        \n",
    "        \n",
    "    big_list.append(year_list)\n",
    "    big_list.append(list1)\n",
    "    big_list.append(small_list)"
   ]
  },
  {
   "cell_type": "code",
   "execution_count": 78,
   "id": "6929c8f7",
   "metadata": {},
   "outputs": [],
   "source": [
    "# Create individual dataframes from seperated data\n",
    "final_list = []\n",
    "for item in range(len(month_list)):\n",
    "    df = pd.DataFrame([big_list[(item * 3)],\n",
    "                       big_list[(int((((item + 1)*9)/3)-2))],\n",
    "                       big_list[((((item + 2)*3)-4))]]).T.reset_index(drop = True)\n",
    "    final_list.append(df)"
   ]
  },
  {
   "cell_type": "code",
   "execution_count": 79,
   "id": "7b8fe1b9",
   "metadata": {
    "scrolled": true
   },
   "outputs": [],
   "source": [
    "# Concat dataframes for normalized (1NF) data structure\n",
    "indicator_brazilianNatural_df = pd.concat(final_list).reset_index(drop = True)\n",
    "indicator_brazilianNatural_df[3] = \"Brazilian Naturals\""
   ]
  },
  {
   "cell_type": "markdown",
   "id": "b21ce0aa",
   "metadata": {},
   "source": [
    "### Indicator Price - Robustas"
   ]
  },
  {
   "cell_type": "code",
   "execution_count": 80,
   "id": "f5ceeeb2",
   "metadata": {},
   "outputs": [],
   "source": [
    "df = pd.read_csv('resources/indicator_robustas.csv')"
   ]
  },
  {
   "cell_type": "code",
   "execution_count": 81,
   "id": "96c73781",
   "metadata": {},
   "outputs": [],
   "source": [
    "# Get list of months\n",
    "month_list = []\n",
    "for index, row in df.iterrows():\n",
    "    month_list.append(row[0])"
   ]
  },
  {
   "cell_type": "code",
   "execution_count": 82,
   "id": "d9c42425",
   "metadata": {},
   "outputs": [],
   "source": [
    "# Drop \"months\" column\n",
    "new_df = df.drop(columns=df.columns[0])"
   ]
  },
  {
   "cell_type": "code",
   "execution_count": 83,
   "id": "f04325d3",
   "metadata": {},
   "outputs": [],
   "source": [
    "# Loop through DataFrame to seperate data\n",
    "big_list = []\n",
    "counter = -1\n",
    "\n",
    "for index , row in new_df.iterrows():\n",
    "    \n",
    "    small_list = []\n",
    "    for z in row:\n",
    "        small_list.append(z)\n",
    "    \n",
    "    year_list = []\n",
    "    for x in range(len(small_list)):\n",
    "        year = 1990 + x\n",
    "        year_list.append(year)\n",
    "    \n",
    "    list1 = []\n",
    "    counter += 1\n",
    "    for y in range(len(small_list)):\n",
    "        list1.append(month_list[counter])\n",
    "        \n",
    "        \n",
    "    big_list.append(year_list)\n",
    "    big_list.append(list1)\n",
    "    big_list.append(small_list)"
   ]
  },
  {
   "cell_type": "code",
   "execution_count": 84,
   "id": "7c50cef4",
   "metadata": {},
   "outputs": [],
   "source": [
    "# Create individual dataframes from seperated data\n",
    "final_list = []\n",
    "for item in range(len(month_list)):\n",
    "    df = pd.DataFrame([big_list[(item * 3)],\n",
    "                       big_list[(int((((item + 1)*9)/3)-2))],\n",
    "                       big_list[((((item + 2)*3)-4))]]).T.reset_index(drop = True)\n",
    "    final_list.append(df)"
   ]
  },
  {
   "cell_type": "code",
   "execution_count": 85,
   "id": "d3775587",
   "metadata": {
    "scrolled": true
   },
   "outputs": [],
   "source": [
    "# Concat dataframes for normalized (1NF) data structure\n",
    "indicator_robusta_df = pd.concat(final_list).reset_index(drop = True)\n",
    "indicator_robusta_df[3] = \"Robustas\""
   ]
  },
  {
   "cell_type": "markdown",
   "id": "f18b0769",
   "metadata": {},
   "source": [
    "### Retail Prices for Importing Countries"
   ]
  },
  {
   "cell_type": "code",
   "execution_count": 86,
   "id": "fa24684e",
   "metadata": {},
   "outputs": [],
   "source": [
    "df = pd.read_csv('resources/retailPrice.csv')"
   ]
  },
  {
   "cell_type": "code",
   "execution_count": 87,
   "id": "1868119c",
   "metadata": {},
   "outputs": [],
   "source": [
    "# Get list of country names\n",
    "country_list = []\n",
    "for index, row in df.iterrows():\n",
    "    country_list.append(row[0])"
   ]
  },
  {
   "cell_type": "code",
   "execution_count": 88,
   "id": "2f2fbd12",
   "metadata": {},
   "outputs": [],
   "source": [
    "# Drop \"country names\" column\n",
    "new_df = df.drop(columns=df.columns[0])"
   ]
  },
  {
   "cell_type": "code",
   "execution_count": 89,
   "id": "e8d9401c",
   "metadata": {},
   "outputs": [],
   "source": [
    "# Loop through DataFrame to seperate data\n",
    "big_list = []\n",
    "counter = -1\n",
    "\n",
    "for index , row in new_df.iterrows():\n",
    "    \n",
    "    small_list = []\n",
    "    for z in row:\n",
    "        small_list.append(z)\n",
    "    \n",
    "    year_list = []\n",
    "    for x in range(len(small_list)):\n",
    "        year = 1990 + x\n",
    "        year_list.append(year)\n",
    "    \n",
    "    list1 = []\n",
    "    counter += 1\n",
    "    for y in range(len(small_list)):\n",
    "        list1.append(country_list[counter])\n",
    "        \n",
    "        \n",
    "    big_list.append(year_list)\n",
    "    big_list.append(list1)\n",
    "    big_list.append(small_list)"
   ]
  },
  {
   "cell_type": "code",
   "execution_count": 90,
   "id": "53bd0790",
   "metadata": {},
   "outputs": [],
   "source": [
    "# Create individual dataframes from seperated data\n",
    "final_list = []\n",
    "for item in range(len(country_list)):\n",
    "    df = pd.DataFrame([big_list[(item * 3)],\n",
    "                       big_list[(int((((item + 1)*9)/3)-2))],\n",
    "                       big_list[((((item + 2)*3)-4))]]).T.reset_index(drop = True)\n",
    "    final_list.append(df)"
   ]
  },
  {
   "cell_type": "code",
   "execution_count": 91,
   "id": "0cedc009",
   "metadata": {},
   "outputs": [],
   "source": [
    "# Concat dataframes for normalized (1NF) data structure\n",
    "retailPrice_df = pd.concat(final_list).reset_index(drop = True)"
   ]
  },
  {
   "cell_type": "markdown",
   "id": "8c069674",
   "metadata": {},
   "source": [
    "### Country Coordinates"
   ]
  },
  {
   "cell_type": "code",
   "execution_count": 92,
   "id": "281966ad",
   "metadata": {},
   "outputs": [],
   "source": [
    "coordinate_df = pd.read_csv('resources/countryCoordinate.csv')"
   ]
  },
  {
   "cell_type": "markdown",
   "id": "f213a7df",
   "metadata": {},
   "source": [
    "## Create SQLite database\n",
    "Use the data frames to create a <em>SQLite</em> database"
   ]
  },
  {
   "cell_type": "code",
   "execution_count": 93,
   "id": "595a6258",
   "metadata": {},
   "outputs": [],
   "source": [
    "from sqlalchemy.ext.declarative import declarative_base\n",
    "from sqlalchemy import Column, Integer, Float, String, create_engine\n",
    "from sqlalchemy.orm import Session"
   ]
  },
  {
   "cell_type": "markdown",
   "id": "cb2d39bb",
   "metadata": {},
   "source": [
    "### Concatenate related dataframes"
   ]
  },
  {
   "cell_type": "code",
   "execution_count": 94,
   "id": "deaba253",
   "metadata": {
    "scrolled": false
   },
   "outputs": [],
   "source": [
    "# Concat \"Trade Statistic\" DataFrames\n",
    "trade_list = [export_df , import_df]\n",
    "\n",
    "trade_df = pd.concat(trade_list).reset_index(drop = True).replace(\"Bolivia (Plurinational State of)\", \"Bolivia\").replace(\"Lao People's Democratic Republic\", \"Laos\").replace(\"Trinidad & Tobago\", \"Trinidad and Tobago\")"
   ]
  },
  {
   "cell_type": "code",
   "execution_count": 95,
   "id": "286e5788",
   "metadata": {},
   "outputs": [],
   "source": [
    "# Concat \"Price to Growers\" DataFrames\n",
    "priceGrowers_list = [colombianMild_df , otherMild_df , brazilianNatural_df , robusta_df]\n",
    "\n",
    "priceGrowers_df = pd.concat(priceGrowers_list).reset_index(drop = True).replace(\"Bolivia (Plurinational State of)\", \"Bolivia\").replace(\"Trinidad & Tobago\", \"Trinidad and Tobago\")"
   ]
  },
  {
   "cell_type": "code",
   "execution_count": 96,
   "id": "c27d16be",
   "metadata": {},
   "outputs": [],
   "source": [
    "# Concat \"Total Production\" DataFrames\n",
    "totalProd_list = [totalProd_april_df , totalProd_july_df , totalProd_october_df]\n",
    "\n",
    "totalProd_df = pd.concat(totalProd_list).reset_index(drop = True).replace(\"Bolivia (Plurinational State of)\", \"Bolivia\").replace(\"Viet Nam\", \"Vietnam\").replace(\"Lao People's Democratic Republic\", \"Laos\").replace(\"Trinidad & Tobago\", \"Trinidad and Tobago\")"
   ]
  },
  {
   "cell_type": "code",
   "execution_count": 97,
   "id": "20c0e927",
   "metadata": {},
   "outputs": [],
   "source": [
    "# Concat \"Indicator Price\" DataFrames\n",
    "indicator_list = [indicator_ICO_df , indicator_colombianMild_df , indicator_otherMild_df , indicator_brazilianNatural_df , indicator_robusta_df]\n",
    "\n",
    "indicator_df = pd.concat(indicator_list).reset_index(drop = True)"
   ]
  },
  {
   "cell_type": "markdown",
   "id": "615e4744",
   "metadata": {},
   "source": [
    "### Create table classes"
   ]
  },
  {
   "cell_type": "code",
   "execution_count": 98,
   "id": "a8626312",
   "metadata": {},
   "outputs": [],
   "source": [
    "Base = declarative_base()"
   ]
  },
  {
   "cell_type": "code",
   "execution_count": 99,
   "id": "2b31e9ea",
   "metadata": {},
   "outputs": [],
   "source": [
    "class trade_stats(Base):\n",
    "    __tablename__ = 'Trade_Stats'\n",
    "    id = Column(Integer, primary_key=True)\n",
    "    year = Column(Integer)\n",
    "    country = Column(String(255))\n",
    "    per1K_60kgbag = Column(Float)\n",
    "    transaction = Column(String(255))\n",
    "\n",
    "class price_growers(Base):\n",
    "    __tablename__ = 'Price_to_Growers'\n",
    "    id = Column(Integer, primary_key=True)\n",
    "    year = Column(Integer)\n",
    "    country = Column(String(255))\n",
    "    UScents_perlb = Column(Float)\n",
    "    coffee_type = Column(String(255))\n",
    "\n",
    "class total_prod(Base):\n",
    "    __tablename__ = 'Total_Production'\n",
    "    id = Column(Integer, primary_key=True)\n",
    "    year = Column(Integer)\n",
    "    country = Column(String(255))\n",
    "    per1K_60kgbag = Column(Float)\n",
    "    month_group = Column(String(255))\n",
    "    \n",
    "class indicator(Base):\n",
    "    __tablename__ = 'Indicator_Prices'\n",
    "    id = Column(Integer, primary_key=True)\n",
    "    year = Column(Integer)\n",
    "    month = Column(String(255))\n",
    "    UScents_perlb = Column(Float)\n",
    "    indicator = Column(String(255))\n",
    "\n",
    "class retail_price(Base):\n",
    "    __tablename__ = 'Import_Country_Retail'\n",
    "    id = Column(Integer, primary_key=True)\n",
    "    year = Column(Integer)\n",
    "    country = Column(String(255))\n",
    "    UScents_perlb = Column(Float) \n",
    "\n",
    "class coordinate(Base):\n",
    "    __tablename__ = 'Country_Coordinates'\n",
    "    id = Column(Integer, primary_key=True)\n",
    "    country_code = Column(String(10))\n",
    "    latitude = Column(String(255))\n",
    "    longitude = Column(String(255))\n",
    "    country_name = Column(String(255))"
   ]
  },
  {
   "cell_type": "code",
   "execution_count": 100,
   "id": "bdba0e3c",
   "metadata": {},
   "outputs": [],
   "source": [
    "dbPath = 'sqlite:///coffee_db.sqlite'\n",
    "engine = create_engine(dbPath)\n",
    "Base.metadata.create_all(engine)\n",
    "s = Session(bind=engine)"
   ]
  },
  {
   "cell_type": "code",
   "execution_count": 101,
   "id": "9dc58ffd",
   "metadata": {
    "scrolled": true
   },
   "outputs": [],
   "source": [
    "trade_objects = []\n",
    "for index, row in trade_df.iterrows():\n",
    "    data_row = trade_stats(year=row[0], country=row[1], per1K_60kgbag=row[2], transaction=row[3])\n",
    "    trade_objects.append(data_row)\n",
    "\n",
    "s.bulk_save_objects(trade_objects)\n",
    "s.commit()"
   ]
  },
  {
   "cell_type": "code",
   "execution_count": 102,
   "id": "5ce4cf41",
   "metadata": {},
   "outputs": [],
   "source": [
    "priceGrowers_objects = []\n",
    "for index, row in priceGrowers_df.iterrows():\n",
    "    data_row = price_growers(year=row[0], country=row[1], UScents_perlb=row[2], coffee_type=row[3])\n",
    "    priceGrowers_objects.append(data_row)\n",
    "\n",
    "s.bulk_save_objects(priceGrowers_objects)\n",
    "s.commit()"
   ]
  },
  {
   "cell_type": "code",
   "execution_count": 103,
   "id": "4347024c",
   "metadata": {},
   "outputs": [],
   "source": [
    "totalProd_objects = []\n",
    "for index, row in totalProd_df.iterrows():\n",
    "    data_row = total_prod(year=row[0], country=row[1], per1K_60kgbag=row[2], month_group=row[3])\n",
    "    totalProd_objects.append(data_row)\n",
    "\n",
    "s.bulk_save_objects(totalProd_objects)\n",
    "s.commit()"
   ]
  },
  {
   "cell_type": "code",
   "execution_count": 104,
   "id": "ac663b87",
   "metadata": {},
   "outputs": [],
   "source": [
    "indicator_objects = []\n",
    "for index, row in indicator_df.iterrows():\n",
    "    data_row = indicator(year=row[0], month=row[1], UScents_perlb=row[2], indicator=row[3])\n",
    "    indicator_objects.append(data_row)\n",
    "\n",
    "s.bulk_save_objects(indicator_objects)\n",
    "s.commit()"
   ]
  },
  {
   "cell_type": "code",
   "execution_count": 105,
   "id": "efa3c332",
   "metadata": {},
   "outputs": [],
   "source": [
    "price_objects = []\n",
    "for index, row in retailPrice_df.iterrows():\n",
    "    data_row = retail_price(year=row[0], country=row[1], UScents_perlb=row[2])\n",
    "    price_objects.append(data_row)\n",
    "    \n",
    "s.bulk_save_objects(price_objects)\n",
    "s.commit()"
   ]
  },
  {
   "cell_type": "code",
   "execution_count": 106,
   "id": "8287b0a2",
   "metadata": {},
   "outputs": [],
   "source": [
    "coordinate_objects = []\n",
    "for index , row in coordinate_df.iterrows():\n",
    "    data_row = coordinate(country_code=row[0], latitude=row[1], longitude=row[2], country_name=row[3])\n",
    "    coordinate_objects.append(data_row)\n",
    "    \n",
    "s.bulk_save_objects(coordinate_objects)\n",
    "s.commit()"
   ]
  },
  {
   "cell_type": "code",
   "execution_count": 107,
   "id": "6c921b5f",
   "metadata": {},
   "outputs": [],
   "source": [
    "s.close()"
   ]
  }
 ],
 "metadata": {
  "kernelspec": {
   "display_name": "Python 3",
   "language": "python",
   "name": "python3"
  },
  "language_info": {
   "codemirror_mode": {
    "name": "ipython",
    "version": 3
   },
   "file_extension": ".py",
   "mimetype": "text/x-python",
   "name": "python",
   "nbconvert_exporter": "python",
   "pygments_lexer": "ipython3",
   "version": "3.8.5"
  }
 },
 "nbformat": 4,
 "nbformat_minor": 5
}
