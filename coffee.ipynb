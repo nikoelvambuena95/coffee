{
 "cells": [
  {
   "cell_type": "markdown",
   "id": "5753b63a",
   "metadata": {},
   "source": [
    "## Import Data\n",
    "Importing CSVs and converting into <em>Pandas</em> data frames. "
   ]
  },
  {
   "cell_type": "code",
   "execution_count": 1,
   "id": "ca263578",
   "metadata": {},
   "outputs": [],
   "source": [
    "import pandas as pd"
   ]
  },
  {
   "cell_type": "markdown",
   "id": "f5e50df9",
   "metadata": {},
   "source": [
    "### Trade Statistics - Exports"
   ]
  },
  {
   "cell_type": "code",
   "execution_count": 2,
   "id": "f2551413",
   "metadata": {},
   "outputs": [],
   "source": [
    "df = pd.read_csv('resources/tradeStats_exports.csv')"
   ]
  },
  {
   "cell_type": "code",
   "execution_count": 3,
   "id": "85c49b7e",
   "metadata": {
    "scrolled": false
   },
   "outputs": [],
   "source": [
    "# Get list of country names\n",
    "country_list = []\n",
    "for index, row in df.iterrows():\n",
    "    country_list.append(row[0])"
   ]
  },
  {
   "cell_type": "code",
   "execution_count": 4,
   "id": "c3dd48b5",
   "metadata": {
    "scrolled": false
   },
   "outputs": [],
   "source": [
    "# Drop \"country names\" column\n",
    "new_df = df.drop(columns=df.columns[0])"
   ]
  },
  {
   "cell_type": "code",
   "execution_count": 5,
   "id": "70335552",
   "metadata": {},
   "outputs": [],
   "source": [
    "# Loop through DataFrame to seperate data\n",
    "big_list = []\n",
    "counter = -1\n",
    "\n",
    "for index , row in new_df.iterrows():\n",
    "    \n",
    "    small_list = []\n",
    "    for z in row:\n",
    "        small_list.append(z)\n",
    "    \n",
    "    year_list = []\n",
    "    for x in range(len(small_list)):\n",
    "        year = 1990 + x\n",
    "        year_list.append(year)\n",
    "    \n",
    "    list1 = []\n",
    "    counter += 1\n",
    "    for y in range(len(small_list)):\n",
    "        list1.append(country_list[counter])\n",
    "        \n",
    "        \n",
    "    big_list.append(year_list)\n",
    "    big_list.append(list1)\n",
    "    big_list.append(small_list)"
   ]
  },
  {
   "cell_type": "code",
   "execution_count": 6,
   "id": "b95e2abb",
   "metadata": {},
   "outputs": [],
   "source": [
    "# Create individual dataframes from seperated data\n",
    "final_list = []\n",
    "for item in range(len(country_list)):\n",
    "    df = pd.DataFrame([big_list[(item * 3)],\n",
    "                       big_list[(int((((item + 1)*9)/3)-2))],\n",
    "                       big_list[((((item + 2)*3)-4))]]).T.reset_index(drop = True)\n",
    "    final_list.append(df)"
   ]
  },
  {
   "cell_type": "code",
   "execution_count": 7,
   "id": "1dadd0b8",
   "metadata": {},
   "outputs": [],
   "source": [
    "# Concat dataframes for normalized (1NF) data structure\n",
    "export_df = pd.concat(final_list).reset_index(drop = True)\n",
    "export_df[3] = \"Export\""
   ]
  },
  {
   "cell_type": "markdown",
   "id": "8a86f8b0",
   "metadata": {},
   "source": [
    "### Trade Statistics - Imports"
   ]
  },
  {
   "cell_type": "code",
   "execution_count": 8,
   "id": "af89031b",
   "metadata": {},
   "outputs": [],
   "source": [
    "df = pd.read_csv('resources/tradeStats_imports.csv')"
   ]
  },
  {
   "cell_type": "code",
   "execution_count": 9,
   "id": "e5f339b2",
   "metadata": {
    "scrolled": false
   },
   "outputs": [],
   "source": [
    "# Get list of country names\n",
    "country_list = []\n",
    "for index, row in df.iterrows():\n",
    "    country_list.append(row[0])"
   ]
  },
  {
   "cell_type": "code",
   "execution_count": 10,
   "id": "be765c7d",
   "metadata": {
    "scrolled": true
   },
   "outputs": [],
   "source": [
    "# Drop \"country names\" column\n",
    "new_df = df.drop(columns=df.columns[0])"
   ]
  },
  {
   "cell_type": "code",
   "execution_count": 11,
   "id": "1ea7a5f8",
   "metadata": {
    "scrolled": true
   },
   "outputs": [],
   "source": [
    "# Loop through DataFrame to seperate data\n",
    "big_list = []\n",
    "counter = -1\n",
    "\n",
    "for index , row in new_df.iterrows():\n",
    "    \n",
    "    small_list = []\n",
    "    for z in row:\n",
    "        small_list.append(z)\n",
    "    \n",
    "    year_list = []\n",
    "    for x in range(len(small_list)):\n",
    "        year = 1990 + x\n",
    "        year_list.append(year)\n",
    "    \n",
    "    list1 = []\n",
    "    counter += 1\n",
    "    for y in range(len(small_list)):\n",
    "        list1.append(country_list[counter])\n",
    "        \n",
    "        \n",
    "    big_list.append(year_list)\n",
    "    big_list.append(list1)\n",
    "    big_list.append(small_list)"
   ]
  },
  {
   "cell_type": "code",
   "execution_count": 12,
   "id": "d22adf00",
   "metadata": {},
   "outputs": [],
   "source": [
    "# Create individual dataframes from seperated data\n",
    "final_list = []\n",
    "for item in range(len(country_list)):\n",
    "    df = pd.DataFrame([big_list[(item * 3)],\n",
    "                       big_list[(int((((item + 1)*9)/3)-2))],\n",
    "                       big_list[((((item + 2)*3)-4))]]).T.reset_index(drop = True)\n",
    "    final_list.append(df)"
   ]
  },
  {
   "cell_type": "code",
   "execution_count": 13,
   "id": "cb82badf",
   "metadata": {},
   "outputs": [],
   "source": [
    "# Concat dataframes for normalized (1NF) data structure\n",
    "import_df = pd.concat(final_list).reset_index(drop = True)\n",
    "import_df[3] = \"Import\""
   ]
  },
  {
   "cell_type": "markdown",
   "id": "b6da1639",
   "metadata": {},
   "source": [
    "### Price to Growers - Colombian Milds"
   ]
  },
  {
   "cell_type": "code",
   "execution_count": 14,
   "id": "8be8d218",
   "metadata": {},
   "outputs": [],
   "source": [
    "# Read CSV\n",
    "df = pd.read_csv('resources/priceGrowers_colombianMilds.csv')"
   ]
  },
  {
   "cell_type": "code",
   "execution_count": 15,
   "id": "8f169b00",
   "metadata": {},
   "outputs": [],
   "source": [
    "# Get list of country names\n",
    "country_list = []\n",
    "for index, row in df.iterrows():\n",
    "    country_list.append(row[0])"
   ]
  },
  {
   "cell_type": "code",
   "execution_count": 16,
   "id": "75214e87",
   "metadata": {
    "scrolled": true
   },
   "outputs": [],
   "source": [
    "# Drop \"country names\" column\n",
    "new_df = df.drop(columns=df.columns[0])"
   ]
  },
  {
   "cell_type": "code",
   "execution_count": 17,
   "id": "285cd6d4",
   "metadata": {},
   "outputs": [],
   "source": [
    "# Loop through DataFrame to seperate data\n",
    "big_list = []\n",
    "counter = -1\n",
    "\n",
    "for index , row in new_df.iterrows():\n",
    "    \n",
    "    small_list = []\n",
    "    for z in row:\n",
    "        small_list.append(z)\n",
    "    \n",
    "    year_list = []\n",
    "    for x in range(len(small_list)):\n",
    "        year = 1990 + x\n",
    "        year_list.append(year)\n",
    "    \n",
    "    list1 = []\n",
    "    counter += 1\n",
    "    for y in range(len(small_list)):\n",
    "        list1.append(country_list[counter])\n",
    "        \n",
    "        \n",
    "    big_list.append(year_list)\n",
    "    big_list.append(list1)\n",
    "    big_list.append(small_list)"
   ]
  },
  {
   "cell_type": "code",
   "execution_count": 18,
   "id": "fb388df8",
   "metadata": {},
   "outputs": [],
   "source": [
    "# Create individual dataframes from seperated data\n",
    "final_list = []\n",
    "for item in range(len(country_list)):\n",
    "    df = pd.DataFrame([big_list[(item * 3)],\n",
    "                       big_list[(int((((item + 1)*9)/3)-2))],\n",
    "                       big_list[((((item + 2)*3)-4))]]).T.reset_index(drop = True)\n",
    "    final_list.append(df)"
   ]
  },
  {
   "cell_type": "code",
   "execution_count": 19,
   "id": "c186b6c1",
   "metadata": {
    "scrolled": true
   },
   "outputs": [],
   "source": [
    "# Concat dataframes for normalized (1NF) data structure\n",
    "colombianMild_df = pd.concat(final_list).reset_index(drop = True)\n",
    "colombianMild_df[3] = \"Colombian Milds\""
   ]
  },
  {
   "cell_type": "markdown",
   "id": "e637a396",
   "metadata": {},
   "source": [
    "### Price to Growers - Other Milds"
   ]
  },
  {
   "cell_type": "code",
   "execution_count": 20,
   "id": "510960e7",
   "metadata": {},
   "outputs": [],
   "source": [
    "df = pd.read_csv('resources/priceGrowers_otherMilds.csv')"
   ]
  },
  {
   "cell_type": "code",
   "execution_count": 21,
   "id": "dd529346",
   "metadata": {},
   "outputs": [],
   "source": [
    "# Get list of country names\n",
    "country_list = []\n",
    "for index, row in df.iterrows():\n",
    "    country_list.append(row[0])"
   ]
  },
  {
   "cell_type": "code",
   "execution_count": 22,
   "id": "62f605c2",
   "metadata": {},
   "outputs": [],
   "source": [
    "# Drop \"country names\" column\n",
    "new_df = df.drop(columns=df.columns[0])"
   ]
  },
  {
   "cell_type": "code",
   "execution_count": 23,
   "id": "6c1ef200",
   "metadata": {
    "scrolled": true
   },
   "outputs": [],
   "source": [
    "# Loop through DataFrame to seperate data\n",
    "big_list = []\n",
    "counter = -1\n",
    "\n",
    "for index , row in new_df.iterrows():\n",
    "    \n",
    "    small_list = []\n",
    "    for z in row:\n",
    "        small_list.append(z)\n",
    "    \n",
    "    year_list = []\n",
    "    for x in range(len(small_list)):\n",
    "        year = 1990 + x\n",
    "        year_list.append(year)\n",
    "    \n",
    "    list1 = []\n",
    "    counter += 1\n",
    "    for y in range(len(small_list)):\n",
    "        list1.append(country_list[counter])\n",
    "        \n",
    "        \n",
    "    big_list.append(year_list)\n",
    "    big_list.append(list1)\n",
    "    big_list.append(small_list)"
   ]
  },
  {
   "cell_type": "code",
   "execution_count": 24,
   "id": "98af28d8",
   "metadata": {},
   "outputs": [],
   "source": [
    "# Create individual dataframes from seperated data\n",
    "final_list = []\n",
    "for item in range(len(country_list)):\n",
    "    df = pd.DataFrame([big_list[(item * 3)],\n",
    "                       big_list[(int((((item + 1)*9)/3)-2))],\n",
    "                       big_list[((((item + 2)*3)-4))]]).T.reset_index(drop = True)\n",
    "    final_list.append(df)"
   ]
  },
  {
   "cell_type": "code",
   "execution_count": 25,
   "id": "d5628845",
   "metadata": {},
   "outputs": [],
   "source": [
    "# Concat dataframes for normalized (1NF) data structure\n",
    "otherMild_df = pd.concat(final_list).reset_index(drop = True)\n",
    "otherMild_df[3] = \"Other Milds\""
   ]
  },
  {
   "cell_type": "markdown",
   "id": "dd8a724e",
   "metadata": {},
   "source": [
    "### Price to Growers - Brazilian Naturals"
   ]
  },
  {
   "cell_type": "code",
   "execution_count": 26,
   "id": "68f841a1",
   "metadata": {},
   "outputs": [],
   "source": [
    "df = pd.read_csv('resources/priceGrowers_brazilianNaturals.csv')"
   ]
  },
  {
   "cell_type": "code",
   "execution_count": 27,
   "id": "9408c003",
   "metadata": {},
   "outputs": [],
   "source": [
    "# Get list of country names\n",
    "country_list = []\n",
    "for index, row in df.iterrows():\n",
    "    country_list.append(row[0])"
   ]
  },
  {
   "cell_type": "code",
   "execution_count": 28,
   "id": "41eb565e",
   "metadata": {},
   "outputs": [],
   "source": [
    "# Drop \"country names\" column\n",
    "new_df = df.drop(columns=df.columns[0])"
   ]
  },
  {
   "cell_type": "code",
   "execution_count": 29,
   "id": "2957c6fa",
   "metadata": {
    "scrolled": false
   },
   "outputs": [],
   "source": [
    "# Loop through DataFrame to seperate data\n",
    "big_list = []\n",
    "counter = -1\n",
    "\n",
    "for index , row in new_df.iterrows():\n",
    "    \n",
    "    small_list = []\n",
    "    for z in row:\n",
    "        small_list.append(z)\n",
    "    \n",
    "    year_list = []\n",
    "    for x in range(len(small_list)):\n",
    "        year = 1990 + x\n",
    "        year_list.append(year)\n",
    "    \n",
    "    list1 = []\n",
    "    counter += 1\n",
    "    for y in range(len(small_list)):\n",
    "        list1.append(country_list[counter])\n",
    "        \n",
    "        \n",
    "    big_list.append(year_list)\n",
    "    big_list.append(list1)\n",
    "    big_list.append(small_list)"
   ]
  },
  {
   "cell_type": "code",
   "execution_count": 30,
   "id": "d2c57602",
   "metadata": {},
   "outputs": [],
   "source": [
    "# Create individual dataframes from seperated data\n",
    "final_list = []\n",
    "for item in range(len(country_list)):\n",
    "    df = pd.DataFrame([big_list[(item * 3)],\n",
    "                       big_list[(int((((item + 1)*9)/3)-2))],\n",
    "                       big_list[((((item + 2)*3)-4))]]).T.reset_index(drop = True)\n",
    "    final_list.append(df)"
   ]
  },
  {
   "cell_type": "code",
   "execution_count": 31,
   "id": "a43380de",
   "metadata": {},
   "outputs": [],
   "source": [
    "# Concat dataframes for normalized (1NF) data structure\n",
    "brazilianNatural_df = pd.concat(final_list).reset_index(drop = True)\n",
    "brazilianNatural_df[3] = \"Brazilian Naturals\""
   ]
  },
  {
   "cell_type": "markdown",
   "id": "f9f96c42",
   "metadata": {},
   "source": [
    "### Price to Growers - Robustas"
   ]
  },
  {
   "cell_type": "code",
   "execution_count": 32,
   "id": "a116f528",
   "metadata": {},
   "outputs": [],
   "source": [
    "df = pd.read_csv('resources/priceGrowers_robustas.csv')"
   ]
  },
  {
   "cell_type": "code",
   "execution_count": 33,
   "id": "a8a7eb3e",
   "metadata": {},
   "outputs": [],
   "source": [
    "# Get list of country names\n",
    "country_list = []\n",
    "for index, row in df.iterrows():\n",
    "    country_list.append(row[0])"
   ]
  },
  {
   "cell_type": "code",
   "execution_count": 34,
   "id": "fd54183f",
   "metadata": {},
   "outputs": [],
   "source": [
    "# Drop \"country names\" column\n",
    "new_df = df.drop(columns=df.columns[0])"
   ]
  },
  {
   "cell_type": "code",
   "execution_count": 35,
   "id": "a2fbad3e",
   "metadata": {
    "scrolled": true
   },
   "outputs": [],
   "source": [
    "# Loop through DataFrame to seperate data\n",
    "big_list = []\n",
    "counter = -1\n",
    "\n",
    "for index , row in new_df.iterrows():\n",
    "    \n",
    "    small_list = []\n",
    "    for z in row:\n",
    "        small_list.append(z)\n",
    "    \n",
    "    year_list = []\n",
    "    for x in range(len(small_list)):\n",
    "        year = 1990 + x\n",
    "        year_list.append(year)\n",
    "    \n",
    "    list1 = []\n",
    "    counter += 1\n",
    "    for y in range(len(small_list)):\n",
    "        list1.append(country_list[counter])\n",
    "        \n",
    "        \n",
    "    big_list.append(year_list)\n",
    "    big_list.append(list1)\n",
    "    big_list.append(small_list)"
   ]
  },
  {
   "cell_type": "code",
   "execution_count": 36,
   "id": "cf6ee80c",
   "metadata": {},
   "outputs": [],
   "source": [
    "# Create individual dataframes from seperated data\n",
    "final_list = []\n",
    "for item in range(len(country_list)):\n",
    "    df = pd.DataFrame([big_list[(item * 3)],\n",
    "                       big_list[(int((((item + 1)*9)/3)-2))],\n",
    "                       big_list[((((item + 2)*3)-4))]]).T.reset_index(drop = True)\n",
    "    final_list.append(df)"
   ]
  },
  {
   "cell_type": "code",
   "execution_count": 37,
   "id": "1b026c68",
   "metadata": {
    "scrolled": true
   },
   "outputs": [],
   "source": [
    "# Concat dataframes for normalized (1NF) data structure\n",
    "robusta_df = pd.concat(final_list).reset_index(drop = True)\n",
    "robusta_df[3] = \"Robustas\""
   ]
  },
  {
   "cell_type": "markdown",
   "id": "4bd7d154",
   "metadata": {},
   "source": [
    "### Total Production of Exporting Countries - April group"
   ]
  },
  {
   "cell_type": "code",
   "execution_count": 38,
   "id": "e2f45211",
   "metadata": {},
   "outputs": [],
   "source": [
    "df = pd.read_csv('resources/totalProduction_april.csv')"
   ]
  },
  {
   "cell_type": "code",
   "execution_count": 39,
   "id": "e973bd98",
   "metadata": {},
   "outputs": [],
   "source": [
    "# Get list of country names\n",
    "country_list = []\n",
    "for index, row in df.iterrows():\n",
    "    country_list.append(row[0])"
   ]
  },
  {
   "cell_type": "code",
   "execution_count": 40,
   "id": "8c8bb21f",
   "metadata": {},
   "outputs": [],
   "source": [
    "# Drop \"country names\" column\n",
    "new_df = df.drop(columns=df.columns[0])"
   ]
  },
  {
   "cell_type": "code",
   "execution_count": 41,
   "id": "3f61f8b4",
   "metadata": {},
   "outputs": [],
   "source": [
    "# Loop through DataFrame to seperate data\n",
    "big_list = []\n",
    "counter = -1\n",
    "\n",
    "for index , row in new_df.iterrows():\n",
    "    \n",
    "    small_list = []\n",
    "    for z in row:\n",
    "        small_list.append(z)\n",
    "    \n",
    "    year_list = []\n",
    "    for x in range(len(small_list)):\n",
    "        year = 1990 + x\n",
    "        year_list.append(year)\n",
    "    \n",
    "    list1 = []\n",
    "    counter += 1\n",
    "    for y in range(len(small_list)):\n",
    "        list1.append(country_list[counter])\n",
    "        \n",
    "        \n",
    "    big_list.append(year_list)\n",
    "    big_list.append(list1)\n",
    "    big_list.append(small_list)"
   ]
  },
  {
   "cell_type": "code",
   "execution_count": 42,
   "id": "e5b4a734",
   "metadata": {},
   "outputs": [],
   "source": [
    "# Create individual dataframes from seperated data\n",
    "final_list = []\n",
    "for item in range(len(country_list)):\n",
    "    df = pd.DataFrame([big_list[(item * 3)],\n",
    "                       big_list[(int((((item + 1)*9)/3)-2))],\n",
    "                       big_list[((((item + 2)*3)-4))]]).T.reset_index(drop = True)\n",
    "    final_list.append(df)"
   ]
  },
  {
   "cell_type": "code",
   "execution_count": 43,
   "id": "12a0d29c",
   "metadata": {
    "scrolled": true
   },
   "outputs": [],
   "source": [
    "# Concat dataframes for normalized (1NF) data structure\n",
    "totalProd_april_df = pd.concat(final_list).reset_index(drop = True)\n",
    "totalProd_april_df[3] = \"April\""
   ]
  },
  {
   "cell_type": "markdown",
   "id": "b48e2f30",
   "metadata": {},
   "source": [
    "### Total Production of Exporting Countries - July group"
   ]
  },
  {
   "cell_type": "code",
   "execution_count": 44,
   "id": "be966749",
   "metadata": {},
   "outputs": [],
   "source": [
    "df = pd.read_csv('resources/totalProduction_july.csv')"
   ]
  },
  {
   "cell_type": "code",
   "execution_count": 45,
   "id": "f9fd847a",
   "metadata": {},
   "outputs": [],
   "source": [
    "# Get list of country names\n",
    "country_list = []\n",
    "for index, row in df.iterrows():\n",
    "    country_list.append(row[0])"
   ]
  },
  {
   "cell_type": "code",
   "execution_count": 46,
   "id": "0e8b7f88",
   "metadata": {},
   "outputs": [],
   "source": [
    "# Drop \"country names\" column\n",
    "new_df = df.drop(columns=df.columns[0])"
   ]
  },
  {
   "cell_type": "code",
   "execution_count": 47,
   "id": "17ca47d8",
   "metadata": {},
   "outputs": [],
   "source": [
    "# Loop through DataFrame to seperate data\n",
    "big_list = []\n",
    "counter = -1\n",
    "\n",
    "for index , row in new_df.iterrows():\n",
    "    \n",
    "    small_list = []\n",
    "    for z in row:\n",
    "        small_list.append(z)\n",
    "    \n",
    "    year_list = []\n",
    "    for x in range(len(small_list)):\n",
    "        year = 1990 + x\n",
    "        year_list.append(year)\n",
    "    \n",
    "    list1 = []\n",
    "    counter += 1\n",
    "    for y in range(len(small_list)):\n",
    "        list1.append(country_list[counter])\n",
    "        \n",
    "        \n",
    "    big_list.append(year_list)\n",
    "    big_list.append(list1)\n",
    "    big_list.append(small_list)"
   ]
  },
  {
   "cell_type": "code",
   "execution_count": 48,
   "id": "13d7894c",
   "metadata": {},
   "outputs": [],
   "source": [
    "# Create individual dataframes from seperated data\n",
    "final_list = []\n",
    "for item in range(len(country_list)):\n",
    "    df = pd.DataFrame([big_list[(item * 3)],\n",
    "                       big_list[(int((((item + 1)*9)/3)-2))],\n",
    "                       big_list[((((item + 2)*3)-4))]]).T.reset_index(drop = True)\n",
    "    final_list.append(df)"
   ]
  },
  {
   "cell_type": "code",
   "execution_count": 49,
   "id": "738c18c3",
   "metadata": {
    "scrolled": true
   },
   "outputs": [],
   "source": [
    "# Concat dataframes for normalized (1NF) data structure\n",
    "totalProd_july_df = pd.concat(final_list).reset_index(drop = True)\n",
    "totalProd_july_df[3] = \"July\""
   ]
  },
  {
   "cell_type": "markdown",
   "id": "500b83ce",
   "metadata": {},
   "source": [
    "### Total Production of Exporting Countries - October group"
   ]
  },
  {
   "cell_type": "code",
   "execution_count": 50,
   "id": "3831db31",
   "metadata": {},
   "outputs": [],
   "source": [
    "df = pd.read_csv('resources/totalProduction_october.csv')"
   ]
  },
  {
   "cell_type": "code",
   "execution_count": 51,
   "id": "182726e0",
   "metadata": {},
   "outputs": [],
   "source": [
    "# Get list of country names\n",
    "country_list = []\n",
    "for index, row in df.iterrows():\n",
    "    country_list.append(row[0])"
   ]
  },
  {
   "cell_type": "code",
   "execution_count": 52,
   "id": "063ee471",
   "metadata": {},
   "outputs": [],
   "source": [
    "# Drop \"country names\" column\n",
    "new_df = df.drop(columns=df.columns[0])"
   ]
  },
  {
   "cell_type": "code",
   "execution_count": 53,
   "id": "4aa3f0fe",
   "metadata": {},
   "outputs": [],
   "source": [
    "# Loop through DataFrame to seperate data\n",
    "big_list = []\n",
    "counter = -1\n",
    "\n",
    "for index , row in new_df.iterrows():\n",
    "    \n",
    "    small_list = []\n",
    "    for z in row:\n",
    "        small_list.append(z)\n",
    "    \n",
    "    year_list = []\n",
    "    for x in range(len(small_list)):\n",
    "        year = 1990 + x\n",
    "        year_list.append(year)\n",
    "    \n",
    "    list1 = []\n",
    "    counter += 1\n",
    "    for y in range(len(small_list)):\n",
    "        list1.append(country_list[counter])\n",
    "        \n",
    "        \n",
    "    big_list.append(year_list)\n",
    "    big_list.append(list1)\n",
    "    big_list.append(small_list)"
   ]
  },
  {
   "cell_type": "code",
   "execution_count": 54,
   "id": "41760b49",
   "metadata": {},
   "outputs": [],
   "source": [
    "# Create individual dataframes from seperated data\n",
    "final_list = []\n",
    "for item in range(len(country_list)):\n",
    "    df = pd.DataFrame([big_list[(item * 3)],\n",
    "                       big_list[(int((((item + 1)*9)/3)-2))],\n",
    "                       big_list[((((item + 2)*3)-4))]]).T.reset_index(drop = True)\n",
    "    final_list.append(df)"
   ]
  },
  {
   "cell_type": "code",
   "execution_count": 55,
   "id": "8219e090",
   "metadata": {
    "scrolled": true
   },
   "outputs": [],
   "source": [
    "# Concat dataframes for normalized (1NF) data structure\n",
    "totalProd_october_df = pd.concat(final_list).reset_index(drop = True)\n",
    "totalProd_october_df[3] = \"October\""
   ]
  },
  {
   "cell_type": "markdown",
   "id": "1e698ebc",
   "metadata": {},
   "source": [
    "### Indicator Price - ICO Composite"
   ]
  },
  {
   "cell_type": "code",
   "execution_count": 56,
   "id": "a746cc77",
   "metadata": {},
   "outputs": [],
   "source": [
    "df = pd.read_csv('resources/indicator_ICOcomposite.csv')"
   ]
  },
  {
   "cell_type": "code",
   "execution_count": 57,
   "id": "3b7c5754",
   "metadata": {
    "scrolled": true
   },
   "outputs": [],
   "source": [
    "# Get list of months\n",
    "month_list = []\n",
    "for index, row in df.iterrows():\n",
    "    month_list.append(row[0])"
   ]
  },
  {
   "cell_type": "code",
   "execution_count": 58,
   "id": "72180c6c",
   "metadata": {
    "scrolled": true
   },
   "outputs": [],
   "source": [
    "# Drop \"months\" column\n",
    "new_df = df.drop(columns=df.columns[0])"
   ]
  },
  {
   "cell_type": "code",
   "execution_count": 59,
   "id": "42bc079a",
   "metadata": {},
   "outputs": [],
   "source": [
    "# Loop through DataFrame to seperate data\n",
    "big_list = []\n",
    "counter = -1\n",
    "\n",
    "for index , row in new_df.iterrows():\n",
    "    \n",
    "    small_list = []\n",
    "    for z in row:\n",
    "        small_list.append(z)\n",
    "    \n",
    "    year_list = []\n",
    "    for x in range(len(small_list)):\n",
    "        year = 1990 + x\n",
    "        year_list.append(year)\n",
    "    \n",
    "    list1 = []\n",
    "    counter += 1\n",
    "    for y in range(len(small_list)):\n",
    "        list1.append(month_list[counter])\n",
    "        \n",
    "        \n",
    "    big_list.append(year_list)\n",
    "    big_list.append(list1)\n",
    "    big_list.append(small_list)"
   ]
  },
  {
   "cell_type": "code",
   "execution_count": 60,
   "id": "9ac37efa",
   "metadata": {},
   "outputs": [],
   "source": [
    "# Create individual dataframes from seperated data\n",
    "final_list = []\n",
    "for item in range(len(month_list)):\n",
    "    df = pd.DataFrame([big_list[(item * 3)],\n",
    "                       big_list[(int((((item + 1)*9)/3)-2))],\n",
    "                       big_list[((((item + 2)*3)-4))]]).T.reset_index(drop = True)\n",
    "    final_list.append(df)"
   ]
  },
  {
   "cell_type": "code",
   "execution_count": 61,
   "id": "7a66e5d0",
   "metadata": {
    "scrolled": true
   },
   "outputs": [],
   "source": [
    "# Concat dataframes for normalized (1NF) data structure\n",
    "indicator_ICO_df = pd.concat(final_list).reset_index(drop = True)\n",
    "indicator_ICO_df[3] = \"ICO Composite\""
   ]
  },
  {
   "cell_type": "markdown",
   "id": "3279d2b8",
   "metadata": {},
   "source": [
    "### Indicator Price - Colombian Milds"
   ]
  },
  {
   "cell_type": "code",
   "execution_count": 62,
   "id": "b05eb8cf",
   "metadata": {},
   "outputs": [],
   "source": [
    "df = pd.read_csv('resources/indicator_colombianMilds.csv')"
   ]
  },
  {
   "cell_type": "code",
   "execution_count": 63,
   "id": "e7f28e14",
   "metadata": {},
   "outputs": [],
   "source": [
    "# Get list of months\n",
    "month_list = []\n",
    "for index, row in df.iterrows():\n",
    "    month_list.append(row[0])"
   ]
  },
  {
   "cell_type": "code",
   "execution_count": 64,
   "id": "142c2f72",
   "metadata": {},
   "outputs": [],
   "source": [
    "# Drop \"months\" column\n",
    "new_df = df.drop(columns=df.columns[0])"
   ]
  },
  {
   "cell_type": "code",
   "execution_count": 65,
   "id": "9a5b5124",
   "metadata": {},
   "outputs": [],
   "source": [
    "# Loop through DataFrame to seperate data\n",
    "big_list = []\n",
    "counter = -1\n",
    "\n",
    "for index , row in new_df.iterrows():\n",
    "    \n",
    "    small_list = []\n",
    "    for z in row:\n",
    "        small_list.append(z)\n",
    "    \n",
    "    year_list = []\n",
    "    for x in range(len(small_list)):\n",
    "        year = 1990 + x\n",
    "        year_list.append(year)\n",
    "    \n",
    "    list1 = []\n",
    "    counter += 1\n",
    "    for y in range(len(small_list)):\n",
    "        list1.append(month_list[counter])\n",
    "        \n",
    "        \n",
    "    big_list.append(year_list)\n",
    "    big_list.append(list1)\n",
    "    big_list.append(small_list)"
   ]
  },
  {
   "cell_type": "code",
   "execution_count": 66,
   "id": "2d4e9efd",
   "metadata": {},
   "outputs": [],
   "source": [
    "# Create individual dataframes from seperated data\n",
    "final_list = []\n",
    "for item in range(len(month_list)):\n",
    "    df = pd.DataFrame([big_list[(item * 3)],\n",
    "                       big_list[(int((((item + 1)*9)/3)-2))],\n",
    "                       big_list[((((item + 2)*3)-4))]]).T.reset_index(drop = True)\n",
    "    final_list.append(df)"
   ]
  },
  {
   "cell_type": "code",
   "execution_count": 67,
   "id": "a53aece0",
   "metadata": {
    "scrolled": true
   },
   "outputs": [],
   "source": [
    "# Concat dataframes for normalized (1NF) data structure\n",
    "indicator_colombianMild_df = pd.concat(final_list).reset_index(drop = True)\n",
    "indicator_colombianMild_df[3] = \"Colombian Milds\""
   ]
  },
  {
   "cell_type": "markdown",
   "id": "114029d3",
   "metadata": {},
   "source": [
    "### Indicator Price - Other Milds"
   ]
  },
  {
   "cell_type": "code",
   "execution_count": 68,
   "id": "3a7fef73",
   "metadata": {},
   "outputs": [],
   "source": [
    "df = pd.read_csv('resources/indicator_otherMilds.csv')"
   ]
  },
  {
   "cell_type": "code",
   "execution_count": 69,
   "id": "588d6d29",
   "metadata": {},
   "outputs": [],
   "source": [
    "# Get list of months\n",
    "month_list = []\n",
    "for index, row in df.iterrows():\n",
    "    month_list.append(row[0])"
   ]
  },
  {
   "cell_type": "code",
   "execution_count": 70,
   "id": "0844468b",
   "metadata": {},
   "outputs": [],
   "source": [
    "# Drop \"months\" column\n",
    "new_df = df.drop(columns=df.columns[0])"
   ]
  },
  {
   "cell_type": "code",
   "execution_count": 71,
   "id": "d67ef687",
   "metadata": {},
   "outputs": [],
   "source": [
    "# Loop through DataFrame to seperate data\n",
    "big_list = []\n",
    "counter = -1\n",
    "\n",
    "for index , row in new_df.iterrows():\n",
    "    \n",
    "    small_list = []\n",
    "    for z in row:\n",
    "        small_list.append(z)\n",
    "    \n",
    "    year_list = []\n",
    "    for x in range(len(small_list)):\n",
    "        year = 1990 + x\n",
    "        year_list.append(year)\n",
    "    \n",
    "    list1 = []\n",
    "    counter += 1\n",
    "    for y in range(len(small_list)):\n",
    "        list1.append(month_list[counter])\n",
    "        \n",
    "        \n",
    "    big_list.append(year_list)\n",
    "    big_list.append(list1)\n",
    "    big_list.append(small_list)"
   ]
  },
  {
   "cell_type": "code",
   "execution_count": 72,
   "id": "9ca397e4",
   "metadata": {},
   "outputs": [],
   "source": [
    "# Create individual dataframes from seperated data\n",
    "final_list = []\n",
    "for item in range(len(month_list)):\n",
    "    df = pd.DataFrame([big_list[(item * 3)],\n",
    "                       big_list[(int((((item + 1)*9)/3)-2))],\n",
    "                       big_list[((((item + 2)*3)-4))]]).T.reset_index(drop = True)\n",
    "    final_list.append(df)"
   ]
  },
  {
   "cell_type": "code",
   "execution_count": 73,
   "id": "339c56e2",
   "metadata": {
    "scrolled": true
   },
   "outputs": [],
   "source": [
    "# Concat dataframes for normalized (1NF) data structure\n",
    "indicator_otherMild_df = pd.concat(final_list).reset_index(drop = True)\n",
    "indicator_otherMild_df[3] = \"Other Milds\""
   ]
  },
  {
   "cell_type": "markdown",
   "id": "eed71d45",
   "metadata": {},
   "source": [
    "### Indicator Price - Brazilian Naturals"
   ]
  },
  {
   "cell_type": "code",
   "execution_count": 74,
   "id": "64611312",
   "metadata": {},
   "outputs": [],
   "source": [
    "df = pd.read_csv('resources/indicator_brazilianNaturals.csv')"
   ]
  },
  {
   "cell_type": "code",
   "execution_count": 75,
   "id": "e8ed098d",
   "metadata": {},
   "outputs": [],
   "source": [
    "# Get list of months\n",
    "month_list = []\n",
    "for index, row in df.iterrows():\n",
    "    month_list.append(row[0])"
   ]
  },
  {
   "cell_type": "code",
   "execution_count": 76,
   "id": "1ac27f7c",
   "metadata": {},
   "outputs": [],
   "source": [
    "# Drop \"months\" column\n",
    "new_df = df.drop(columns=df.columns[0])"
   ]
  },
  {
   "cell_type": "code",
   "execution_count": 77,
   "id": "98afa558",
   "metadata": {},
   "outputs": [],
   "source": [
    "# Loop through DataFrame to seperate data\n",
    "big_list = []\n",
    "counter = -1\n",
    "\n",
    "for index , row in new_df.iterrows():\n",
    "    \n",
    "    small_list = []\n",
    "    for z in row:\n",
    "        small_list.append(z)\n",
    "    \n",
    "    year_list = []\n",
    "    for x in range(len(small_list)):\n",
    "        year = 1990 + x\n",
    "        year_list.append(year)\n",
    "    \n",
    "    list1 = []\n",
    "    counter += 1\n",
    "    for y in range(len(small_list)):\n",
    "        list1.append(month_list[counter])\n",
    "        \n",
    "        \n",
    "    big_list.append(year_list)\n",
    "    big_list.append(list1)\n",
    "    big_list.append(small_list)"
   ]
  },
  {
   "cell_type": "code",
   "execution_count": 78,
   "id": "c3c77245",
   "metadata": {},
   "outputs": [],
   "source": [
    "# Create individual dataframes from seperated data\n",
    "final_list = []\n",
    "for item in range(len(month_list)):\n",
    "    df = pd.DataFrame([big_list[(item * 3)],\n",
    "                       big_list[(int((((item + 1)*9)/3)-2))],\n",
    "                       big_list[((((item + 2)*3)-4))]]).T.reset_index(drop = True)\n",
    "    final_list.append(df)"
   ]
  },
  {
   "cell_type": "code",
   "execution_count": 79,
   "id": "02b49236",
   "metadata": {
    "scrolled": true
   },
   "outputs": [],
   "source": [
    "# Concat dataframes for normalized (1NF) data structure\n",
    "indicator_brazilianNatural_df = pd.concat(final_list).reset_index(drop = True)\n",
    "indicator_brazilianNatural_df[3] = \"Brazilian Naturals\""
   ]
  },
  {
   "cell_type": "markdown",
   "id": "6a240e47",
   "metadata": {},
   "source": [
    "### Indicator Price - Robustas"
   ]
  },
  {
   "cell_type": "code",
   "execution_count": 80,
   "id": "bb4671ff",
   "metadata": {},
   "outputs": [],
   "source": [
    "df = pd.read_csv('resources/indicator_robustas.csv')"
   ]
  },
  {
   "cell_type": "code",
   "execution_count": 81,
   "id": "7762407a",
   "metadata": {},
   "outputs": [],
   "source": [
    "# Get list of months\n",
    "month_list = []\n",
    "for index, row in df.iterrows():\n",
    "    month_list.append(row[0])"
   ]
  },
  {
   "cell_type": "code",
   "execution_count": 82,
   "id": "520e7f16",
   "metadata": {},
   "outputs": [],
   "source": [
    "# Drop \"months\" column\n",
    "new_df = df.drop(columns=df.columns[0])"
   ]
  },
  {
   "cell_type": "code",
   "execution_count": 83,
   "id": "11f6e40e",
   "metadata": {},
   "outputs": [],
   "source": [
    "# Loop through DataFrame to seperate data\n",
    "big_list = []\n",
    "counter = -1\n",
    "\n",
    "for index , row in new_df.iterrows():\n",
    "    \n",
    "    small_list = []\n",
    "    for z in row:\n",
    "        small_list.append(z)\n",
    "    \n",
    "    year_list = []\n",
    "    for x in range(len(small_list)):\n",
    "        year = 1990 + x\n",
    "        year_list.append(year)\n",
    "    \n",
    "    list1 = []\n",
    "    counter += 1\n",
    "    for y in range(len(small_list)):\n",
    "        list1.append(month_list[counter])\n",
    "        \n",
    "        \n",
    "    big_list.append(year_list)\n",
    "    big_list.append(list1)\n",
    "    big_list.append(small_list)"
   ]
  },
  {
   "cell_type": "code",
   "execution_count": 84,
   "id": "2ad170e5",
   "metadata": {},
   "outputs": [],
   "source": [
    "# Create individual dataframes from seperated data\n",
    "final_list = []\n",
    "for item in range(len(month_list)):\n",
    "    df = pd.DataFrame([big_list[(item * 3)],\n",
    "                       big_list[(int((((item + 1)*9)/3)-2))],\n",
    "                       big_list[((((item + 2)*3)-4))]]).T.reset_index(drop = True)\n",
    "    final_list.append(df)"
   ]
  },
  {
   "cell_type": "code",
   "execution_count": 85,
   "id": "ffee3cdb",
   "metadata": {
    "scrolled": true
   },
   "outputs": [],
   "source": [
    "# Concat dataframes for normalized (1NF) data structure\n",
    "indicator_robusta_df = pd.concat(final_list).reset_index(drop = True)\n",
    "indicator_robusta_df[3] = \"Robustas\""
   ]
  },
  {
   "cell_type": "markdown",
   "id": "babf5e86",
   "metadata": {},
   "source": [
    "### Retail Prices for Importing Countries"
   ]
  },
  {
   "cell_type": "code",
   "execution_count": 86,
   "id": "67db3a85",
   "metadata": {},
   "outputs": [],
   "source": [
    "df = pd.read_csv('resources/retailPrice.csv')"
   ]
  },
  {
   "cell_type": "code",
   "execution_count": 87,
   "id": "e24e6543",
   "metadata": {},
   "outputs": [],
   "source": [
    "# Get list of country names\n",
    "country_list = []\n",
    "for index, row in df.iterrows():\n",
    "    country_list.append(row[0])"
   ]
  },
  {
   "cell_type": "code",
   "execution_count": 88,
   "id": "f7aa7863",
   "metadata": {},
   "outputs": [],
   "source": [
    "# Drop \"country names\" column\n",
    "new_df = df.drop(columns=df.columns[0])"
   ]
  },
  {
   "cell_type": "code",
   "execution_count": 89,
   "id": "30a7a9fe",
   "metadata": {},
   "outputs": [],
   "source": [
    "# Loop through DataFrame to seperate data\n",
    "big_list = []\n",
    "counter = -1\n",
    "\n",
    "for index , row in new_df.iterrows():\n",
    "    \n",
    "    small_list = []\n",
    "    for z in row:\n",
    "        small_list.append(z)\n",
    "    \n",
    "    year_list = []\n",
    "    for x in range(len(small_list)):\n",
    "        year = 1990 + x\n",
    "        year_list.append(year)\n",
    "    \n",
    "    list1 = []\n",
    "    counter += 1\n",
    "    for y in range(len(small_list)):\n",
    "        list1.append(country_list[counter])\n",
    "        \n",
    "        \n",
    "    big_list.append(year_list)\n",
    "    big_list.append(list1)\n",
    "    big_list.append(small_list)"
   ]
  },
  {
   "cell_type": "code",
   "execution_count": 90,
   "id": "bc4db6fd",
   "metadata": {},
   "outputs": [],
   "source": [
    "# Create individual dataframes from seperated data\n",
    "final_list = []\n",
    "for item in range(len(country_list)):\n",
    "    df = pd.DataFrame([big_list[(item * 3)],\n",
    "                       big_list[(int((((item + 1)*9)/3)-2))],\n",
    "                       big_list[((((item + 2)*3)-4))]]).T.reset_index(drop = True)\n",
    "    final_list.append(df)"
   ]
  },
  {
   "cell_type": "code",
   "execution_count": 91,
   "id": "e001558c",
   "metadata": {},
   "outputs": [],
   "source": [
    "# Concat dataframes for normalized (1NF) data structure\n",
    "retailPrice_df = pd.concat(final_list).reset_index(drop = True)"
   ]
  },
  {
   "cell_type": "markdown",
   "id": "ae7afc59",
   "metadata": {},
   "source": [
    "## Create SQLite database\n",
    "Use the data frames to create a <em>SQLite</em> database"
   ]
  },
  {
   "cell_type": "code",
   "execution_count": 92,
   "id": "61124e48",
   "metadata": {},
   "outputs": [],
   "source": [
    "from sqlalchemy.ext.declarative import declarative_base\n",
    "from sqlalchemy import Column, Integer, Float, String, create_engine\n",
    "from sqlalchemy.orm import Session"
   ]
  },
  {
   "cell_type": "markdown",
   "id": "4c2c763d",
   "metadata": {},
   "source": [
    "### Concatenate related dataframes"
   ]
  },
  {
   "cell_type": "code",
   "execution_count": 93,
   "id": "45402342",
   "metadata": {
    "scrolled": false
   },
   "outputs": [],
   "source": [
    "# Concat \"Trade Statistic\" DataFrames\n",
    "trade_list = [export_df , import_df]\n",
    "\n",
    "trade_df = pd.concat(trade_list).reset_index(drop = True)"
   ]
  },
  {
   "cell_type": "code",
   "execution_count": 94,
   "id": "fb56d0c7",
   "metadata": {},
   "outputs": [],
   "source": [
    "# Concat \"Price to Growers\" DataFrames\n",
    "priceGrowers_list = [colombianMild_df , otherMild_df , brazilianNatural_df , robusta_df]\n",
    "\n",
    "priceGrowers_df = pd.concat(priceGrowers_list).reset_index(drop = True)"
   ]
  },
  {
   "cell_type": "code",
   "execution_count": 95,
   "id": "395bf567",
   "metadata": {},
   "outputs": [],
   "source": [
    "# Concat \"Total Production\" DataFrames\n",
    "totalProd_list = [totalProd_april_df , totalProd_july_df , totalProd_october_df]\n",
    "\n",
    "totalProd_df = pd.concat(totalProd_list).reset_index(drop = True)"
   ]
  },
  {
   "cell_type": "code",
   "execution_count": 96,
   "id": "f55a15a1",
   "metadata": {},
   "outputs": [],
   "source": [
    "# Concat \"Indicator Price\" DataFrames\n",
    "indicator_list = [indicator_ICO_df , indicator_colombianMild_df , indicator_otherMild_df , indicator_brazilianNatural_df , indicator_robusta_df]\n",
    "\n",
    "indicator_df = pd.concat(indicator_list).reset_index(drop = True)"
   ]
  },
  {
   "cell_type": "markdown",
   "id": "1076a93b",
   "metadata": {},
   "source": [
    "### Create table classes"
   ]
  },
  {
   "cell_type": "code",
   "execution_count": 97,
   "id": "fdac4db5",
   "metadata": {},
   "outputs": [],
   "source": [
    "Base = declarative_base()"
   ]
  },
  {
   "cell_type": "code",
   "execution_count": 98,
   "id": "5f7443f5",
   "metadata": {},
   "outputs": [],
   "source": [
    "class trade_stats(Base):\n",
    "    __tablename__ = 'Trade Stats'\n",
    "    id = Column(Integer, primary_key=True)\n",
    "    year = Column(Integer)\n",
    "    country = Column(String(255))\n",
    "    per1K_60kgbag = Column(Float)\n",
    "    transaction = Column(String(255))\n",
    "\n",
    "class price_growers(Base):\n",
    "    __tablename__ = 'Price to Growers'\n",
    "    id = Column(Integer, primary_key=True)\n",
    "    year = Column(Integer)\n",
    "    country = Column(String(255))\n",
    "    UScents_perlb = Column(Float)\n",
    "    coffee_type = Column(String(255))\n",
    "\n",
    "class total_prod(Base):\n",
    "    __tablename__ = 'Total Production'\n",
    "    id = Column(Integer, primary_key=True)\n",
    "    year = Column(Integer)\n",
    "    country = Column(String(255))\n",
    "    per1K_60kgbag = Column(Float)\n",
    "    month_group = Column(String(255))\n",
    "    \n",
    "class indicator(Base):\n",
    "    __tablename__ = 'Indicator Prices'\n",
    "    id = Column(Integer, primary_key=True)\n",
    "    year = Column(Integer)\n",
    "    month = Column(String(255))\n",
    "    UScents_perlb = Column(Float)\n",
    "    indicator = Column(String(255))\n",
    "\n",
    "class retail_price(Base):\n",
    "    __tablename__ = 'Import Country Retail Price'\n",
    "    id = Column(Integer, primary_key=True)\n",
    "    year = Column(Integer)\n",
    "    country = Column(String(255))\n",
    "    UScents_perlb = Column(Float) "
   ]
  },
  {
   "cell_type": "code",
   "execution_count": 99,
   "id": "f0d3b9a4",
   "metadata": {},
   "outputs": [],
   "source": [
    "dbPath = 'sqlite:///coffee_db.sqlite'\n",
    "engine = create_engine(dbPath)\n",
    "Base.metadata.create_all(engine)\n",
    "s = Session(bind=engine)"
   ]
  },
  {
   "cell_type": "code",
   "execution_count": 100,
   "id": "635c5794",
   "metadata": {
    "scrolled": true
   },
   "outputs": [],
   "source": [
    "trade_objects = []\n",
    "for index, row in trade_df.iterrows():\n",
    "    data_row = trade_stats(year=row[0], country=row[1], per1K_60kgbag=row[2], transaction=row[3])\n",
    "    trade_objects.append(data_row)\n",
    "\n",
    "s.bulk_save_objects(trade_objects)\n",
    "s.commit()"
   ]
  },
  {
   "cell_type": "code",
   "execution_count": 101,
   "id": "3076a30c",
   "metadata": {},
   "outputs": [],
   "source": [
    "priceGrowers_objects = []\n",
    "for index, row in priceGrowers_df.iterrows():\n",
    "    data_row = price_growers(year=row[0], country=row[1], UScents_perlb=row[2], coffee_type=row[3])\n",
    "    priceGrowers_objects.append(data_row)\n",
    "\n",
    "s.bulk_save_objects(priceGrowers_objects)\n",
    "s.commit()"
   ]
  },
  {
   "cell_type": "code",
   "execution_count": 102,
   "id": "eefbaffa",
   "metadata": {},
   "outputs": [],
   "source": [
    "totalProd_objects = []\n",
    "for index, row in totalProd_df.iterrows():\n",
    "    data_row = total_prod(year=row[0], country=row[1], per1K_60kgbag=row[2], month_group=row[3])\n",
    "    totalProd_objects.append(data_row)\n",
    "\n",
    "s.bulk_save_objects(totalProd_objects)\n",
    "s.commit()"
   ]
  },
  {
   "cell_type": "code",
   "execution_count": 103,
   "id": "7eecb974",
   "metadata": {},
   "outputs": [],
   "source": [
    "indicator_objects = []\n",
    "for index, row in indicator_df.iterrows():\n",
    "    data_row = indicator(year=row[0], month=row[1], UScents_perlb=row[2], indicator=row[3])\n",
    "    indicator_objects.append(data_row)\n",
    "\n",
    "s.bulk_save_objects(indicator_objects)\n",
    "s.commit()"
   ]
  },
  {
   "cell_type": "code",
   "execution_count": 104,
   "id": "f857f8bb",
   "metadata": {},
   "outputs": [],
   "source": [
    "price_objects = []\n",
    "for index, row in retailPrice_df.iterrows():\n",
    "    data_row = retail_price(year=row[0], country=row[1], UScents_perlb=row[2])\n",
    "    price_objects.append(data_row)\n",
    "    \n",
    "s.bulk_save_objects(price_objects)\n",
    "s.commit()"
   ]
  },
  {
   "cell_type": "code",
   "execution_count": 105,
   "id": "25403f8f",
   "metadata": {},
   "outputs": [],
   "source": [
    "s.close()"
   ]
  }
 ],
 "metadata": {
  "kernelspec": {
   "display_name": "Python 3",
   "language": "python",
   "name": "python3"
  },
  "language_info": {
   "codemirror_mode": {
    "name": "ipython",
    "version": 3
   },
   "file_extension": ".py",
   "mimetype": "text/x-python",
   "name": "python",
   "nbconvert_exporter": "python",
   "pygments_lexer": "ipython3",
   "version": "3.8.5"
  }
 },
 "nbformat": 4,
 "nbformat_minor": 5
}
